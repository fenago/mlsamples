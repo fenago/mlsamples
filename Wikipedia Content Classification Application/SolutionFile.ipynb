{
  "nbformat": 4,
  "nbformat_minor": 0,
  "metadata": {
    "colab": {
      "name": "SolutionFile.ipynb",
      "provenance": [],
      "collapsed_sections": []
    },
    "kernelspec": {
      "display_name": "Python 3",
      "language": "python",
      "name": "python3"
    },
    "language_info": {
      "codemirror_mode": {
        "name": "ipython",
        "version": 3
      },
      "file_extension": ".py",
      "mimetype": "text/x-python",
      "name": "python",
      "nbconvert_exporter": "python",
      "pygments_lexer": "ipython3",
      "version": "3.7.3"
    }
  },
  "cells": [
    {
      "cell_type": "markdown",
      "metadata": {
        "id": "YpHnZApK3QUF",
        "colab_type": "text"
      },
      "source": [
        "## This first cell will be used to download the necessary modules required to run the notebook. This is a one time process and can be removed once you have all the necessary modules installed on your system."
      ]
    },
    {
      "cell_type": "code",
      "metadata": {
        "id": "XM-IQ1D_R9LG",
        "colab_type": "code",
        "outputId": "7894cac3-46f1-4d59-bdad-fc68105e7085",
        "colab": {
          "base_uri": "https://localhost:8080/",
          "height": 622
        }
      },
      "source": [
        "!pip install requests\n",
        "!pip install pandas\n",
        "!pip install numpy\n",
        "!pip install bs4\n",
        "!pip install sklearn\n",
        "!pip install flask==0.12.2 \n",
        "!pip install flask-ngrok"
      ],
      "execution_count": 136,
      "outputs": [
        {
          "output_type": "stream",
          "text": [
            "Requirement already satisfied: requests in /usr/local/lib/python3.6/dist-packages (2.23.0)\n",
            "Requirement already satisfied: idna<3,>=2.5 in /usr/local/lib/python3.6/dist-packages (from requests) (2.9)\n",
            "Requirement already satisfied: chardet<4,>=3.0.2 in /usr/local/lib/python3.6/dist-packages (from requests) (3.0.4)\n",
            "Requirement already satisfied: urllib3!=1.25.0,!=1.25.1,<1.26,>=1.21.1 in /usr/local/lib/python3.6/dist-packages (from requests) (1.24.3)\n",
            "Requirement already satisfied: certifi>=2017.4.17 in /usr/local/lib/python3.6/dist-packages (from requests) (2020.4.5.1)\n",
            "Requirement already satisfied: pandas in /usr/local/lib/python3.6/dist-packages (1.0.3)\n",
            "Requirement already satisfied: numpy>=1.13.3 in /usr/local/lib/python3.6/dist-packages (from pandas) (1.18.3)\n",
            "Requirement already satisfied: pytz>=2017.2 in /usr/local/lib/python3.6/dist-packages (from pandas) (2018.9)\n",
            "Requirement already satisfied: python-dateutil>=2.6.1 in /usr/local/lib/python3.6/dist-packages (from pandas) (2.8.1)\n",
            "Requirement already satisfied: six>=1.5 in /usr/local/lib/python3.6/dist-packages (from python-dateutil>=2.6.1->pandas) (1.12.0)\n",
            "Requirement already satisfied: numpy in /usr/local/lib/python3.6/dist-packages (1.18.3)\n",
            "Requirement already satisfied: bs4 in /usr/local/lib/python3.6/dist-packages (0.0.1)\n",
            "Requirement already satisfied: beautifulsoup4 in /usr/local/lib/python3.6/dist-packages (from bs4) (4.6.3)\n",
            "Requirement already satisfied: sklearn in /usr/local/lib/python3.6/dist-packages (0.0)\n",
            "Requirement already satisfied: scikit-learn in /usr/local/lib/python3.6/dist-packages (from sklearn) (0.22.2.post1)\n",
            "Requirement already satisfied: scipy>=0.17.0 in /usr/local/lib/python3.6/dist-packages (from scikit-learn->sklearn) (1.4.1)\n",
            "Requirement already satisfied: joblib>=0.11 in /usr/local/lib/python3.6/dist-packages (from scikit-learn->sklearn) (0.14.1)\n",
            "Requirement already satisfied: numpy>=1.11.0 in /usr/local/lib/python3.6/dist-packages (from scikit-learn->sklearn) (1.18.3)\n",
            "Requirement already satisfied: flask==0.12.2 in /usr/local/lib/python3.6/dist-packages (0.12.2)\n",
            "Requirement already satisfied: Jinja2>=2.4 in /usr/local/lib/python3.6/dist-packages (from flask==0.12.2) (2.11.2)\n",
            "Requirement already satisfied: click>=2.0 in /usr/local/lib/python3.6/dist-packages (from flask==0.12.2) (7.1.2)\n",
            "Requirement already satisfied: Werkzeug>=0.7 in /usr/local/lib/python3.6/dist-packages (from flask==0.12.2) (1.0.1)\n",
            "Requirement already satisfied: itsdangerous>=0.21 in /usr/local/lib/python3.6/dist-packages (from flask==0.12.2) (1.1.0)\n",
            "Requirement already satisfied: MarkupSafe>=0.23 in /usr/local/lib/python3.6/dist-packages (from Jinja2>=2.4->flask==0.12.2) (1.1.1)\n",
            "Requirement already satisfied: flask-ngrok in /usr/local/lib/python3.6/dist-packages (0.0.25)\n",
            "Requirement already satisfied: requests in /usr/local/lib/python3.6/dist-packages (from flask-ngrok) (2.23.0)\n",
            "Requirement already satisfied: Flask>=0.8 in /usr/local/lib/python3.6/dist-packages (from flask-ngrok) (0.12.2)\n",
            "Requirement already satisfied: chardet<4,>=3.0.2 in /usr/local/lib/python3.6/dist-packages (from requests->flask-ngrok) (3.0.4)\n",
            "Requirement already satisfied: urllib3!=1.25.0,!=1.25.1,<1.26,>=1.21.1 in /usr/local/lib/python3.6/dist-packages (from requests->flask-ngrok) (1.24.3)\n",
            "Requirement already satisfied: idna<3,>=2.5 in /usr/local/lib/python3.6/dist-packages (from requests->flask-ngrok) (2.9)\n",
            "Requirement already satisfied: certifi>=2017.4.17 in /usr/local/lib/python3.6/dist-packages (from requests->flask-ngrok) (2020.4.5.1)\n",
            "Requirement already satisfied: click>=2.0 in /usr/local/lib/python3.6/dist-packages (from Flask>=0.8->flask-ngrok) (7.1.2)\n",
            "Requirement already satisfied: Jinja2>=2.4 in /usr/local/lib/python3.6/dist-packages (from Flask>=0.8->flask-ngrok) (2.11.2)\n",
            "Requirement already satisfied: Werkzeug>=0.7 in /usr/local/lib/python3.6/dist-packages (from Flask>=0.8->flask-ngrok) (1.0.1)\n",
            "Requirement already satisfied: itsdangerous>=0.21 in /usr/local/lib/python3.6/dist-packages (from Flask>=0.8->flask-ngrok) (1.1.0)\n",
            "Requirement already satisfied: MarkupSafe>=0.23 in /usr/local/lib/python3.6/dist-packages (from Jinja2>=2.4->Flask>=0.8->flask-ngrok) (1.1.1)\n"
          ],
          "name": "stdout"
        }
      ]
    },
    {
      "cell_type": "code",
      "metadata": {
        "colab_type": "code",
        "id": "aSRYu62xUi3g",
        "colab": {}
      },
      "source": [
        "import requests\n",
        "import pandas as pd\n",
        "import numpy as np\n",
        "from bs4 import BeautifulSoup\n",
        "from sklearn.pipeline import Pipeline\n",
        "from sklearn.feature_extraction.text import CountVectorizer, TfidfTransformer\n",
        "from sklearn.naive_bayes import MultinomialNB\n",
        "import pickle\n",
        "import re\n",
        "from flask import Flask,request\n",
        "from flask_ngrok import run_with_ngrok"
      ],
      "execution_count": 0,
      "outputs": []
    },
    {
      "cell_type": "code",
      "metadata": {
        "colab_type": "code",
        "id": "KLS42pRgN4W4",
        "colab": {}
      },
      "source": [
        "def get_wiki_data(url):\n",
        "  page = requests.get(url)\n",
        "  html = page.text\n",
        "  soup = BeautifulSoup(html)\n",
        "  content = soup.find_all(\"p\")\n",
        "  data = []\n",
        "  for paragraph in content:\n",
        "    data.append(paragraph.text)\n",
        "  data = \" \".join(data)\n",
        "  return data"
      ],
      "execution_count": 0,
      "outputs": []
    },
    {
      "cell_type": "code",
      "metadata": {
        "colab_type": "code",
        "id": "LvSdit9PkOGN",
        "colab": {}
      },
      "source": [
        "wiki_intial = \"https://en.wikipedia.org/wiki/\""
      ],
      "execution_count": 0,
      "outputs": []
    },
    {
      "cell_type": "code",
      "metadata": {
        "colab_type": "code",
        "id": "QCoaa7dhsf-9",
        "colab": {}
      },
      "source": [
        "def get_list_of_imdb(url):\n",
        "  html = requests.get(url).text\n",
        "  content = BeautifulSoup(html)\n",
        "  req_list = []\n",
        "  for cont in content.find_all(\"div\", {\"class\":\"lister-item mode-detail\"}):\n",
        "    req_list.append(cont.find(\"h3\").find(\"a\").text)\n",
        "  return req_list"
      ],
      "execution_count": 0,
      "outputs": []
    },
    {
      "cell_type": "code",
      "metadata": {
        "colab_type": "code",
        "id": "8_jsbfgxsFOF",
        "colab": {}
      },
      "source": [
        "actor_list_holly = get_list_of_imdb(\"https://www.imdb.com/list/ls053501318/\")\n",
        "names_holly = []\n",
        "for actor in actor_list_holly:\n",
        "  name = actor\n",
        "  name = re.sub(\"\\n\", \"\", name)\n",
        "  name = re.sub(\"\\s\", \"_\", name)\n",
        "  name = re.sub(\"^_\", \"\", name)\n",
        "  names_holly.append(name)\n",
        "text_data_holly = []\n",
        "for name in names_holly:\n",
        "  text_data_holly.append(get_wiki_data(wiki_intial+name))"
      ],
      "execution_count": 0,
      "outputs": []
    },
    {
      "cell_type": "code",
      "metadata": {
        "colab_type": "code",
        "id": "Lvc90vY9sFOQ",
        "outputId": "a043e76b-34d5-4f9d-e5af-3b7fd9e382e3",
        "colab": {
          "base_uri": "https://localhost:8080/",
          "height": 195
        }
      },
      "source": [
        "hollywood = pd.DataFrame()\n",
        "hollywood[\"text\"] = text_data_holly\n",
        "hollywood[\"label\"] = [\"Celebrity\" for i in range(len(names_holly))]\n",
        "hollywood.head()"
      ],
      "execution_count": 142,
      "outputs": [
        {
          "output_type": "execute_result",
          "data": {
            "text/html": [
              "<div>\n",
              "<style scoped>\n",
              "    .dataframe tbody tr th:only-of-type {\n",
              "        vertical-align: middle;\n",
              "    }\n",
              "\n",
              "    .dataframe tbody tr th {\n",
              "        vertical-align: top;\n",
              "    }\n",
              "\n",
              "    .dataframe thead th {\n",
              "        text-align: right;\n",
              "    }\n",
              "</style>\n",
              "<table border=\"1\" class=\"dataframe\">\n",
              "  <thead>\n",
              "    <tr style=\"text-align: right;\">\n",
              "      <th></th>\n",
              "      <th>text</th>\n",
              "      <th>label</th>\n",
              "    </tr>\n",
              "  </thead>\n",
              "  <tbody>\n",
              "    <tr>\n",
              "      <th>0</th>\n",
              "      <td>\\n John Christopher Depp II (born June 9, 1963...</td>\n",
              "      <td>Celebrity</td>\n",
              "    </tr>\n",
              "    <tr>\n",
              "      <th>1</th>\n",
              "      <td>\\n \\n Alfredo James Pacino (/pəˈtʃiːnoʊ/; Ital...</td>\n",
              "      <td>Celebrity</td>\n",
              "    </tr>\n",
              "    <tr>\n",
              "      <th>2</th>\n",
              "      <td>\\n \\n Robert Anthony De Niro Jr. (/də ˈnɪəroʊ/...</td>\n",
              "      <td>Celebrity</td>\n",
              "    </tr>\n",
              "    <tr>\n",
              "      <th>3</th>\n",
              "      <td>\\n \\n Kevin Spacey Fowler KBE (born July 26, 1...</td>\n",
              "      <td>Celebrity</td>\n",
              "    </tr>\n",
              "    <tr>\n",
              "      <th>4</th>\n",
              "      <td>\\n \\n Denzel Hayes Washington Jr. (born Decemb...</td>\n",
              "      <td>Celebrity</td>\n",
              "    </tr>\n",
              "  </tbody>\n",
              "</table>\n",
              "</div>"
            ],
            "text/plain": [
              "                                                text      label\n",
              "0  \\n John Christopher Depp II (born June 9, 1963...  Celebrity\n",
              "1  \\n \\n Alfredo James Pacino (/pəˈtʃiːnoʊ/; Ital...  Celebrity\n",
              "2  \\n \\n Robert Anthony De Niro Jr. (/də ˈnɪəroʊ/...  Celebrity\n",
              "3  \\n \\n Kevin Spacey Fowler KBE (born July 26, 1...  Celebrity\n",
              "4  \\n \\n Denzel Hayes Washington Jr. (born Decemb...  Celebrity"
            ]
          },
          "metadata": {
            "tags": []
          },
          "execution_count": 142
        }
      ]
    },
    {
      "cell_type": "code",
      "metadata": {
        "colab_type": "code",
        "id": "KfG0cIP3sFOe",
        "colab": {}
      },
      "source": [
        "def create_category_data(names,label):\n",
        "  text_data = [get_wiki_data(wiki_intial+i) for i in names]\n",
        "  data = pd.DataFrame()\n",
        "  data[\"text\"] = text_data\n",
        "  data[\"label\"] = [label for i in range(len(names))]\n",
        "  return data"
      ],
      "execution_count": 0,
      "outputs": []
    },
    {
      "cell_type": "code",
      "metadata": {
        "colab_type": "code",
        "id": "wHvB_8SfsFOn",
        "colab": {}
      },
      "source": [
        "def throw_bad_data(names,label):\n",
        "  data = create_category_data(names,label)\n",
        "  ind = []\n",
        "  for i,j in enumerate(data[\"text\"]):\n",
        "    if \"may refer to:\" in j:\n",
        "      ind.append(i)\n",
        "  irrelevant = data.index.isin(ind)\n",
        "  data = data[~irrelevant]\n",
        "  return(data)"
      ],
      "execution_count": 0,
      "outputs": []
    },
    {
      "cell_type": "code",
      "metadata": {
        "colab_type": "code",
        "id": "Qc20R71OsFOy",
        "outputId": "344e30c9-0ac8-4307-f264-47cb45cf1b72",
        "colab": {
          "base_uri": "https://localhost:8080/",
          "height": 195
        }
      },
      "source": [
        "chem = [\"compounds\", \"atoms\", \"molecules\", \"ions\", \"reaction\", \n",
        "\t\t\t \"chemist\", \"substances\", \"laboratory\", \"particles\",\n",
        "\t\t\t \"energy\", \"radioactive\", \"matter\", \"photon\", \"mass\",\n",
        "\t\t\t \"atomic_nucleus\", \"ionization\", \"metallic\", \"covalent\",\n",
        "\t\t\t \"periodic\", \"isotopes\", \"solids\", \"silica\", \"sulfur\", \n",
        "\t\t\t \"sodium\", \"carbon\", \"alloy\", \"avogadro\", \"liquid\", \"oxidation\",\n",
        "\t\t\t \"chloride\", \"plasma\", \"hydronium\", \"quanta\", \"phonons\", \"hydrogen\",\n",
        "\t\t\t \"sulfied\", \"kinetics\", \"hydroxide\", \"phosphate\", \"redox\", \"molar\",\n",
        "\t\t\t \"molarity\", \"helium\", \"krypton\"]\n",
        "chemistry = throw_bad_data(chem,\"Chemistry\")\n",
        "chemistry.head()"
      ],
      "execution_count": 145,
      "outputs": [
        {
          "output_type": "execute_result",
          "data": {
            "text/html": [
              "<div>\n",
              "<style scoped>\n",
              "    .dataframe tbody tr th:only-of-type {\n",
              "        vertical-align: middle;\n",
              "    }\n",
              "\n",
              "    .dataframe tbody tr th {\n",
              "        vertical-align: top;\n",
              "    }\n",
              "\n",
              "    .dataframe thead th {\n",
              "        text-align: right;\n",
              "    }\n",
              "</style>\n",
              "<table border=\"1\" class=\"dataframe\">\n",
              "  <thead>\n",
              "    <tr style=\"text-align: right;\">\n",
              "      <th></th>\n",
              "      <th>text</th>\n",
              "      <th>label</th>\n",
              "    </tr>\n",
              "  </thead>\n",
              "  <tbody>\n",
              "    <tr>\n",
              "      <th>1</th>\n",
              "      <td>\\n An atom is the smallest constituent unit of...</td>\n",
              "      <td>Chemistry</td>\n",
              "    </tr>\n",
              "    <tr>\n",
              "      <th>2</th>\n",
              "      <td>\\n A molecule is an electrically neutral group...</td>\n",
              "      <td>Chemistry</td>\n",
              "    </tr>\n",
              "    <tr>\n",
              "      <th>3</th>\n",
              "      <td>\\n An ion (/ˈaɪɒn, -ən/)[1] is an atom or mole...</td>\n",
              "      <td>Chemistry</td>\n",
              "    </tr>\n",
              "    <tr>\n",
              "      <th>4</th>\n",
              "      <td>Reaction may refer to a response to an action,...</td>\n",
              "      <td>Chemistry</td>\n",
              "    </tr>\n",
              "    <tr>\n",
              "      <th>5</th>\n",
              "      <td>A chemist (from Greek chēm (ía) alchemy; repla...</td>\n",
              "      <td>Chemistry</td>\n",
              "    </tr>\n",
              "  </tbody>\n",
              "</table>\n",
              "</div>"
            ],
            "text/plain": [
              "                                                text      label\n",
              "1  \\n An atom is the smallest constituent unit of...  Chemistry\n",
              "2  \\n A molecule is an electrically neutral group...  Chemistry\n",
              "3  \\n An ion (/ˈaɪɒn, -ən/)[1] is an atom or mole...  Chemistry\n",
              "4  Reaction may refer to a response to an action,...  Chemistry\n",
              "5  A chemist (from Greek chēm (ía) alchemy; repla...  Chemistry"
            ]
          },
          "metadata": {
            "tags": []
          },
          "execution_count": 145
        }
      ]
    },
    {
      "cell_type": "code",
      "metadata": {
        "colab_type": "code",
        "id": "tRaFPqj2sFO4",
        "outputId": "c3388855-dd95-4ee1-e8b2-e630167bbd0e",
        "colab": {
          "base_uri": "https://localhost:8080/",
          "height": 195
        }
      },
      "source": [
        "phys = [\"energy\", \"force\", \"astronomy\", \"sun\", \"moon\", \"stars\",\n",
        "\t\t   \"planets\", \"optic\", \"gravitation\", \"gravity\", \"thermodynamics\", \n",
        "\t\t   \"electromagnetics\", \"theory_of_relativity\", \"photoelectric_effect\",\n",
        "\t\t   \"speed_of_light\", \"motion\", \"superconductivity\", \"higgs_boson\",\n",
        "\t\t   \"quantum\", \"quantum_mechanics\", \"supersymmetry\", \"neutrinos\", \"meissner_effect\",\n",
        "\t\t   \"magnetic_field\", \"fluxons\", \"electric_current\", \"geomagnetism\", \"inertia\",\n",
        "\t\t   \"newton's_laws_of_motion\", \"classical_mechanics\", \"kepler's_law\",\"planet\",\n",
        "\t\t   \"thermonuclear\", \"fusion\", \"orbit\", \"ellipse\"]\n",
        "physics = throw_bad_data(phys,\"Physics\")\n",
        "physics.head()"
      ],
      "execution_count": 146,
      "outputs": [
        {
          "output_type": "execute_result",
          "data": {
            "text/html": [
              "<div>\n",
              "<style scoped>\n",
              "    .dataframe tbody tr th:only-of-type {\n",
              "        vertical-align: middle;\n",
              "    }\n",
              "\n",
              "    .dataframe tbody tr th {\n",
              "        vertical-align: top;\n",
              "    }\n",
              "\n",
              "    .dataframe thead th {\n",
              "        text-align: right;\n",
              "    }\n",
              "</style>\n",
              "<table border=\"1\" class=\"dataframe\">\n",
              "  <thead>\n",
              "    <tr style=\"text-align: right;\">\n",
              "      <th></th>\n",
              "      <th>text</th>\n",
              "      <th>label</th>\n",
              "    </tr>\n",
              "  </thead>\n",
              "  <tbody>\n",
              "    <tr>\n",
              "      <th>0</th>\n",
              "      <td>\\n \\n In physics, energy is the quantitative p...</td>\n",
              "      <td>Physics</td>\n",
              "    </tr>\n",
              "    <tr>\n",
              "      <th>1</th>\n",
              "      <td>\\n In physics, a force is any interaction that...</td>\n",
              "      <td>Physics</td>\n",
              "    </tr>\n",
              "    <tr>\n",
              "      <th>2</th>\n",
              "      <td>\\n Astronomy (from Greek: ἀστρονομία) is a nat...</td>\n",
              "      <td>Physics</td>\n",
              "    </tr>\n",
              "    <tr>\n",
              "      <th>3</th>\n",
              "      <td>\\n \\n The Sun is the star at the center of the...</td>\n",
              "      <td>Physics</td>\n",
              "    </tr>\n",
              "    <tr>\n",
              "      <th>4</th>\n",
              "      <td>\\n \\n The Moon is an astronomical body orbitin...</td>\n",
              "      <td>Physics</td>\n",
              "    </tr>\n",
              "  </tbody>\n",
              "</table>\n",
              "</div>"
            ],
            "text/plain": [
              "                                                text    label\n",
              "0  \\n \\n In physics, energy is the quantitative p...  Physics\n",
              "1  \\n In physics, a force is any interaction that...  Physics\n",
              "2  \\n Astronomy (from Greek: ἀστρονομία) is a nat...  Physics\n",
              "3  \\n \\n The Sun is the star at the center of the...  Physics\n",
              "4  \\n \\n The Moon is an astronomical body orbitin...  Physics"
            ]
          },
          "metadata": {
            "tags": []
          },
          "execution_count": 146
        }
      ]
    },
    {
      "cell_type": "code",
      "metadata": {
        "colab_type": "code",
        "id": "MIAZwy0esFO9",
        "outputId": "758b71e5-eb79-401b-8f57-2ceb6db1cf25",
        "colab": {
          "base_uri": "https://localhost:8080/",
          "height": 195
        }
      },
      "source": [
        "maths = [\"arithmetic\", \"algebra\", \"geometry\", \"analysis\", \"set_theory\",\n",
        "\t\t \"number_theory\", \"natural_numbers\", \"complex_numbers\", \"infinity\",\n",
        "\t\t \"groups\", \"rings\", \"fields\", \"abstract_algebra\", \"linear_algenra\",\n",
        "\t\t \"vector_spaces\", \"analytic_geometry\", \"optimization\", \"tensor_calculus\",\n",
        "\t\t \"convex\", \"topology\", \"real_analysis\", \"differential_equations\", \"euclidean_geometry\",\n",
        "\t\t \"hypotenuse\", \"theorem\", \"volumes\", \"calculus\", \"integral\", \"differentiation\",\n",
        "\t\t \"limits\", \"riemann\", \"fourier_series\", \"prime_numbers\", \"measure\",\n",
        "\t\t \"infinite_series\", \"metric_space\", \"sine\", \"taylor_series\", \"lebesgue\",\n",
        "\t\t \"hilbert_spaces\", \"functional_analysis\", \"ordered_pair\"]\n",
        "mathematics = create_category_data(maths,\"Mathematics\")\n",
        "mathematics.head()"
      ],
      "execution_count": 147,
      "outputs": [
        {
          "output_type": "execute_result",
          "data": {
            "text/html": [
              "<div>\n",
              "<style scoped>\n",
              "    .dataframe tbody tr th:only-of-type {\n",
              "        vertical-align: middle;\n",
              "    }\n",
              "\n",
              "    .dataframe tbody tr th {\n",
              "        vertical-align: top;\n",
              "    }\n",
              "\n",
              "    .dataframe thead th {\n",
              "        text-align: right;\n",
              "    }\n",
              "</style>\n",
              "<table border=\"1\" class=\"dataframe\">\n",
              "  <thead>\n",
              "    <tr style=\"text-align: right;\">\n",
              "      <th></th>\n",
              "      <th>text</th>\n",
              "      <th>label</th>\n",
              "    </tr>\n",
              "  </thead>\n",
              "  <tbody>\n",
              "    <tr>\n",
              "      <th>0</th>\n",
              "      <td>Arithmetic (from the Greek ἀριθμός arithmos, \"...</td>\n",
              "      <td>Mathematics</td>\n",
              "    </tr>\n",
              "    <tr>\n",
              "      <th>1</th>\n",
              "      <td>\\n Algebra (from Arabic: الجبر‎ (al-jabr, mean...</td>\n",
              "      <td>Mathematics</td>\n",
              "    </tr>\n",
              "    <tr>\n",
              "      <th>2</th>\n",
              "      <td>\\n Geometry (from the Ancient Greek: γεωμετρία...</td>\n",
              "      <td>Mathematics</td>\n",
              "    </tr>\n",
              "    <tr>\n",
              "      <th>3</th>\n",
              "      <td>\\nAnalysis is the process of breaking a comple...</td>\n",
              "      <td>Mathematics</td>\n",
              "    </tr>\n",
              "    <tr>\n",
              "      <th>4</th>\n",
              "      <td>Set theory is a branch of mathematical logic t...</td>\n",
              "      <td>Mathematics</td>\n",
              "    </tr>\n",
              "  </tbody>\n",
              "</table>\n",
              "</div>"
            ],
            "text/plain": [
              "                                                text        label\n",
              "0  Arithmetic (from the Greek ἀριθμός arithmos, \"...  Mathematics\n",
              "1  \\n Algebra (from Arabic: الجبر‎ (al-jabr, mean...  Mathematics\n",
              "2  \\n Geometry (from the Ancient Greek: γεωμετρία...  Mathematics\n",
              "3  \\nAnalysis is the process of breaking a comple...  Mathematics\n",
              "4  Set theory is a branch of mathematical logic t...  Mathematics"
            ]
          },
          "metadata": {
            "tags": []
          },
          "execution_count": 147
        }
      ]
    },
    {
      "cell_type": "code",
      "metadata": {
        "colab_type": "code",
        "id": "5RrFOd9PsFPC",
        "outputId": "9510d5c4-c914-4fe8-af98-61be400fb85a",
        "colab": {
          "base_uri": "https://localhost:8080/",
          "height": 195
        }
      },
      "source": [
        "stats = [\"probability\", \"surveys_sampling\", \"experiments\", \"inference\", \"observational_study\",\n",
        "\t     \"data_analysis\", \"mean\", \"variance\", \"dispersion\", \"descriptive_statistics\",\n",
        "\t     \"null_hypothesis\", \"missing_data\", \"probability_theory\", \"sampling\", \"estimator\",\n",
        "\t     \"statistic\", \"covariance\", \"mean_squared_error\", \"consistency\",\n",
        "\t     \"maximum_likelihood\", \"least_squares\", \"power_test\", \"random\", \"bayesian\",\n",
        "\t     \"frequentist\", \"significance\", \"critical_region\",\"correlation\", \"regression\", \n",
        "\t     \"logistic_regression\", \"factor_analysis\", \"cojoint_analysis\",\"parametric\",\n",
        "\t     \"time_series_analysis\", \"bootstrap\", \"markov_chain\"]\n",
        "statistics = create_category_data(stats,\"Statistics\")\n",
        "statistics.head()"
      ],
      "execution_count": 148,
      "outputs": [
        {
          "output_type": "execute_result",
          "data": {
            "text/html": [
              "<div>\n",
              "<style scoped>\n",
              "    .dataframe tbody tr th:only-of-type {\n",
              "        vertical-align: middle;\n",
              "    }\n",
              "\n",
              "    .dataframe tbody tr th {\n",
              "        vertical-align: top;\n",
              "    }\n",
              "\n",
              "    .dataframe thead th {\n",
              "        text-align: right;\n",
              "    }\n",
              "</style>\n",
              "<table border=\"1\" class=\"dataframe\">\n",
              "  <thead>\n",
              "    <tr style=\"text-align: right;\">\n",
              "      <th></th>\n",
              "      <th>text</th>\n",
              "      <th>label</th>\n",
              "    </tr>\n",
              "  </thead>\n",
              "  <tbody>\n",
              "    <tr>\n",
              "      <th>0</th>\n",
              "      <td>\\n Related concepts and fundamentals:\\n Probab...</td>\n",
              "      <td>Statistics</td>\n",
              "    </tr>\n",
              "    <tr>\n",
              "      <th>1</th>\n",
              "      <td>Other reasons this message may be displayed:\\n</td>\n",
              "      <td>Statistics</td>\n",
              "    </tr>\n",
              "    <tr>\n",
              "      <th>2</th>\n",
              "      <td>An experiment is a procedure carried out to su...</td>\n",
              "      <td>Statistics</td>\n",
              "    </tr>\n",
              "    <tr>\n",
              "      <th>3</th>\n",
              "      <td>Inferences are steps in reasoning, moving from...</td>\n",
              "      <td>Statistics</td>\n",
              "    </tr>\n",
              "    <tr>\n",
              "      <th>4</th>\n",
              "      <td>In fields such as epidemiology, social science...</td>\n",
              "      <td>Statistics</td>\n",
              "    </tr>\n",
              "  </tbody>\n",
              "</table>\n",
              "</div>"
            ],
            "text/plain": [
              "                                                text       label\n",
              "0  \\n Related concepts and fundamentals:\\n Probab...  Statistics\n",
              "1     Other reasons this message may be displayed:\\n  Statistics\n",
              "2  An experiment is a procedure carried out to su...  Statistics\n",
              "3  Inferences are steps in reasoning, moving from...  Statistics\n",
              "4  In fields such as epidemiology, social science...  Statistics"
            ]
          },
          "metadata": {
            "tags": []
          },
          "execution_count": 148
        }
      ]
    },
    {
      "cell_type": "code",
      "metadata": {
        "colab_type": "code",
        "id": "0XpL_f-zsFPH",
        "outputId": "c4511f1a-4ba0-4ef3-f0e5-a50345db9e19",
        "colab": {
          "base_uri": "https://localhost:8080/",
          "height": 195
        }
      },
      "source": [
        "eco = [\"production\", \"distribution_(economics)\", \"consumption_(economics)\", \"microeconomics\",\n",
        "\t\t\"macroeconomics\", \"demand\", \"supply\", \"national_income\", \"deficit\",\n",
        "\t\t\"resources\", \"market_equilibrium\", \"oligopoly\", \"monopoly\", \"duopoly\",\n",
        "\t\t\"monopsony\", \"investment_goods\", \"public_goods\", \"opportunity_cost\",\n",
        "\t\t\"factors_of_production\", \"pareto_efficiency\", \"production_possiblity_frontier\",\n",
        "\t\t\"scarcity\", \"constraints\", \"income_effect\", \"substitution_effect\",\n",
        "\t\t\"marginal_utility\", \"marginal_cost\", \"elasticity\", \"marginal_revenue\",\n",
        "\t\t\"perfectly_competitive\",\"game_theory\",\"economic_growth\", \"money\",\"balance_of_payments\",\n",
        "\t\t\"central_bank\", \"fiscal_policy\", \"monetary_policy\", \"monye_supply\",\n",
        "\t\t\"exchange_rates\", \"externalities\"]\n",
        "economics = create_category_data(eco,\"Economics\")\n",
        "economics.head()"
      ],
      "execution_count": 149,
      "outputs": [
        {
          "output_type": "execute_result",
          "data": {
            "text/html": [
              "<div>\n",
              "<style scoped>\n",
              "    .dataframe tbody tr th:only-of-type {\n",
              "        vertical-align: middle;\n",
              "    }\n",
              "\n",
              "    .dataframe tbody tr th {\n",
              "        vertical-align: top;\n",
              "    }\n",
              "\n",
              "    .dataframe thead th {\n",
              "        text-align: right;\n",
              "    }\n",
              "</style>\n",
              "<table border=\"1\" class=\"dataframe\">\n",
              "  <thead>\n",
              "    <tr style=\"text-align: right;\">\n",
              "      <th></th>\n",
              "      <th>text</th>\n",
              "      <th>label</th>\n",
              "    </tr>\n",
              "  </thead>\n",
              "  <tbody>\n",
              "    <tr>\n",
              "      <th>0</th>\n",
              "      <td>Production may be:\\n</td>\n",
              "      <td>Economics</td>\n",
              "    </tr>\n",
              "    <tr>\n",
              "      <th>1</th>\n",
              "      <td>In economics, distribution is the way total ou...</td>\n",
              "      <td>Economics</td>\n",
              "    </tr>\n",
              "    <tr>\n",
              "      <th>2</th>\n",
              "      <td>Consumption, defined as spending for acquisiti...</td>\n",
              "      <td>Economics</td>\n",
              "    </tr>\n",
              "    <tr>\n",
              "      <th>3</th>\n",
              "      <td>\\n Microeconomics (from Greek prefix mikro- me...</td>\n",
              "      <td>Economics</td>\n",
              "    </tr>\n",
              "    <tr>\n",
              "      <th>4</th>\n",
              "      <td>Heterodox\\n Macroeconomics (from the Greek pre...</td>\n",
              "      <td>Economics</td>\n",
              "    </tr>\n",
              "  </tbody>\n",
              "</table>\n",
              "</div>"
            ],
            "text/plain": [
              "                                                text      label\n",
              "0                               Production may be:\\n  Economics\n",
              "1  In economics, distribution is the way total ou...  Economics\n",
              "2  Consumption, defined as spending for acquisiti...  Economics\n",
              "3  \\n Microeconomics (from Greek prefix mikro- me...  Economics\n",
              "4  Heterodox\\n Macroeconomics (from the Greek pre...  Economics"
            ]
          },
          "metadata": {
            "tags": []
          },
          "execution_count": 149
        }
      ]
    },
    {
      "cell_type": "code",
      "metadata": {
        "colab_type": "code",
        "id": "NDXcxo63sFPP",
        "outputId": "a2553ddb-a303-4177-846d-3882310f620f",
        "colab": {
          "base_uri": "https://localhost:8080/",
          "height": 195
        }
      },
      "source": [
        "main_data = pd.concat((hollywood,chemistry,physics,mathematics,statistics,economics),ignore_index=True)\n",
        "main_data.head()"
      ],
      "execution_count": 150,
      "outputs": [
        {
          "output_type": "execute_result",
          "data": {
            "text/html": [
              "<div>\n",
              "<style scoped>\n",
              "    .dataframe tbody tr th:only-of-type {\n",
              "        vertical-align: middle;\n",
              "    }\n",
              "\n",
              "    .dataframe tbody tr th {\n",
              "        vertical-align: top;\n",
              "    }\n",
              "\n",
              "    .dataframe thead th {\n",
              "        text-align: right;\n",
              "    }\n",
              "</style>\n",
              "<table border=\"1\" class=\"dataframe\">\n",
              "  <thead>\n",
              "    <tr style=\"text-align: right;\">\n",
              "      <th></th>\n",
              "      <th>text</th>\n",
              "      <th>label</th>\n",
              "    </tr>\n",
              "  </thead>\n",
              "  <tbody>\n",
              "    <tr>\n",
              "      <th>0</th>\n",
              "      <td>\\n John Christopher Depp II (born June 9, 1963...</td>\n",
              "      <td>Celebrity</td>\n",
              "    </tr>\n",
              "    <tr>\n",
              "      <th>1</th>\n",
              "      <td>\\n \\n Alfredo James Pacino (/pəˈtʃiːnoʊ/; Ital...</td>\n",
              "      <td>Celebrity</td>\n",
              "    </tr>\n",
              "    <tr>\n",
              "      <th>2</th>\n",
              "      <td>\\n \\n Robert Anthony De Niro Jr. (/də ˈnɪəroʊ/...</td>\n",
              "      <td>Celebrity</td>\n",
              "    </tr>\n",
              "    <tr>\n",
              "      <th>3</th>\n",
              "      <td>\\n \\n Kevin Spacey Fowler KBE (born July 26, 1...</td>\n",
              "      <td>Celebrity</td>\n",
              "    </tr>\n",
              "    <tr>\n",
              "      <th>4</th>\n",
              "      <td>\\n \\n Denzel Hayes Washington Jr. (born Decemb...</td>\n",
              "      <td>Celebrity</td>\n",
              "    </tr>\n",
              "  </tbody>\n",
              "</table>\n",
              "</div>"
            ],
            "text/plain": [
              "                                                text      label\n",
              "0  \\n John Christopher Depp II (born June 9, 1963...  Celebrity\n",
              "1  \\n \\n Alfredo James Pacino (/pəˈtʃiːnoʊ/; Ital...  Celebrity\n",
              "2  \\n \\n Robert Anthony De Niro Jr. (/də ˈnɪəroʊ/...  Celebrity\n",
              "3  \\n \\n Kevin Spacey Fowler KBE (born July 26, 1...  Celebrity\n",
              "4  \\n \\n Denzel Hayes Washington Jr. (born Decemb...  Celebrity"
            ]
          },
          "metadata": {
            "tags": []
          },
          "execution_count": 150
        }
      ]
    },
    {
      "cell_type": "code",
      "metadata": {
        "colab_type": "code",
        "id": "NL6jeMpssFPY",
        "outputId": "1ecab845-6956-494a-a461-e441ff3f0c2a",
        "colab": {
          "base_uri": "https://localhost:8080/",
          "height": 195
        }
      },
      "source": [
        "label_mapper = {\"Celebrity\":0, \"Chemistry\":1, \"Physics\":2,\n",
        "               \"Mathematics\":3, \"Statistics\":4, \"Economics\":5}\n",
        "main_data[\"label_number\"] = main_data[\"label\"].map(label_mapper)\n",
        "main_data.head()"
      ],
      "execution_count": 151,
      "outputs": [
        {
          "output_type": "execute_result",
          "data": {
            "text/html": [
              "<div>\n",
              "<style scoped>\n",
              "    .dataframe tbody tr th:only-of-type {\n",
              "        vertical-align: middle;\n",
              "    }\n",
              "\n",
              "    .dataframe tbody tr th {\n",
              "        vertical-align: top;\n",
              "    }\n",
              "\n",
              "    .dataframe thead th {\n",
              "        text-align: right;\n",
              "    }\n",
              "</style>\n",
              "<table border=\"1\" class=\"dataframe\">\n",
              "  <thead>\n",
              "    <tr style=\"text-align: right;\">\n",
              "      <th></th>\n",
              "      <th>text</th>\n",
              "      <th>label</th>\n",
              "      <th>label_number</th>\n",
              "    </tr>\n",
              "  </thead>\n",
              "  <tbody>\n",
              "    <tr>\n",
              "      <th>0</th>\n",
              "      <td>\\n John Christopher Depp II (born June 9, 1963...</td>\n",
              "      <td>Celebrity</td>\n",
              "      <td>0</td>\n",
              "    </tr>\n",
              "    <tr>\n",
              "      <th>1</th>\n",
              "      <td>\\n \\n Alfredo James Pacino (/pəˈtʃiːnoʊ/; Ital...</td>\n",
              "      <td>Celebrity</td>\n",
              "      <td>0</td>\n",
              "    </tr>\n",
              "    <tr>\n",
              "      <th>2</th>\n",
              "      <td>\\n \\n Robert Anthony De Niro Jr. (/də ˈnɪəroʊ/...</td>\n",
              "      <td>Celebrity</td>\n",
              "      <td>0</td>\n",
              "    </tr>\n",
              "    <tr>\n",
              "      <th>3</th>\n",
              "      <td>\\n \\n Kevin Spacey Fowler KBE (born July 26, 1...</td>\n",
              "      <td>Celebrity</td>\n",
              "      <td>0</td>\n",
              "    </tr>\n",
              "    <tr>\n",
              "      <th>4</th>\n",
              "      <td>\\n \\n Denzel Hayes Washington Jr. (born Decemb...</td>\n",
              "      <td>Celebrity</td>\n",
              "      <td>0</td>\n",
              "    </tr>\n",
              "  </tbody>\n",
              "</table>\n",
              "</div>"
            ],
            "text/plain": [
              "                                                text      label  label_number\n",
              "0  \\n John Christopher Depp II (born June 9, 1963...  Celebrity             0\n",
              "1  \\n \\n Alfredo James Pacino (/pəˈtʃiːnoʊ/; Ital...  Celebrity             0\n",
              "2  \\n \\n Robert Anthony De Niro Jr. (/də ˈnɪəroʊ/...  Celebrity             0\n",
              "3  \\n \\n Kevin Spacey Fowler KBE (born July 26, 1...  Celebrity             0\n",
              "4  \\n \\n Denzel Hayes Washington Jr. (born Decemb...  Celebrity             0"
            ]
          },
          "metadata": {
            "tags": []
          },
          "execution_count": 151
        }
      ]
    },
    {
      "cell_type": "code",
      "metadata": {
        "colab_type": "code",
        "id": "_kDkf6QCtJKY",
        "colab": {}
      },
      "source": [
        "stop = ['i','me','my','myself','we','our','ours','ourselves','you',\"you're\",\"you've\",\"you'll\",\"you'd\",'your','yours',\n",
        "        'yourself','yourselves','he','him','his','himself','she',\"she's\",'her','hers','herself','it',\"it's\",'its',\n",
        "        'itself','they','them','their','theirs','themselves','what','which','who','whom','this','that',\"that'll\",\n",
        "        'these','those','am','is','are','was','were','be','been','being','have','has','had','having','do','does',\n",
        "        'did','doing','a','an','the','and','but','if','or','because','as','until','while','of','at','by','for',\n",
        "        'with','about','against','between','into','through','during','before','after','above','below','to','from',\n",
        "        'up','down','in','out','on','off','over','under','again','further','then','once','here','there','when','where',\n",
        "        'why','how','all','any','both','each','few','more','most','other','some','such','no','nor','not','only','own',\n",
        "        'same','so','than','too','very','s','t','can','will','just','don',\"don't\",'should',\"should've\",'now','d','ll',\n",
        "        'm','o','re','ve','y','ain','aren',\"aren't\",'couldn',\"couldn't\",'didn',\"didn't\",'doesn',\"doesn't\",'hadn',\"hadn't\",\n",
        "        'hasn',\"hasn't\",'haven',\"haven't\",'isn',\"isn't\",'ma','mightn',\"mightn't\",'mustn',\"mustn't\",'needn',\"needn't\",'shan',\n",
        "        \"shan't\", 'shouldn',\"shouldn't\",'wasn',\"wasn't\",'weren',\"weren't\",'won',\"won't\",'wouldn',\"wouldn't\"]"
      ],
      "execution_count": 0,
      "outputs": []
    },
    {
      "cell_type": "code",
      "metadata": {
        "colab_type": "code",
        "id": "C6FjDv6XsFPg",
        "colab": {}
      },
      "source": [
        "def clean_text(text):\n",
        "  text = text.lower()\n",
        "  tokens = text.split()\n",
        "  new = [word for word in tokens if word not in stop]\n",
        "  text = \" \".join(new)\n",
        "  text = \" \".join(re.split(r\"[^A-Za-z]\", text))\n",
        "  text = re.sub(\" +\", \" \", text)\n",
        "  return(text)"
      ],
      "execution_count": 0,
      "outputs": []
    },
    {
      "cell_type": "code",
      "metadata": {
        "colab_type": "code",
        "id": "oYCe1M2AsFPm",
        "colab": {}
      },
      "source": [
        "cleaned = []\n",
        "for i in main_data.text:\n",
        "  cleaned.append(clean_text(i))"
      ],
      "execution_count": 0,
      "outputs": []
    },
    {
      "cell_type": "code",
      "metadata": {
        "colab_type": "code",
        "id": "TbJ8q6ZFsFPs",
        "outputId": "756d9826-a84c-4c54-c2d9-07d4c18cb9ee",
        "colab": {
          "base_uri": "https://localhost:8080/",
          "height": 195
        }
      },
      "source": [
        "main_data[\"clean_text\"] = cleaned\n",
        "main_data.head()"
      ],
      "execution_count": 155,
      "outputs": [
        {
          "output_type": "execute_result",
          "data": {
            "text/html": [
              "<div>\n",
              "<style scoped>\n",
              "    .dataframe tbody tr th:only-of-type {\n",
              "        vertical-align: middle;\n",
              "    }\n",
              "\n",
              "    .dataframe tbody tr th {\n",
              "        vertical-align: top;\n",
              "    }\n",
              "\n",
              "    .dataframe thead th {\n",
              "        text-align: right;\n",
              "    }\n",
              "</style>\n",
              "<table border=\"1\" class=\"dataframe\">\n",
              "  <thead>\n",
              "    <tr style=\"text-align: right;\">\n",
              "      <th></th>\n",
              "      <th>text</th>\n",
              "      <th>label</th>\n",
              "      <th>label_number</th>\n",
              "      <th>clean_text</th>\n",
              "    </tr>\n",
              "  </thead>\n",
              "  <tbody>\n",
              "    <tr>\n",
              "      <th>0</th>\n",
              "      <td>\\n John Christopher Depp II (born June 9, 1963...</td>\n",
              "      <td>Celebrity</td>\n",
              "      <td>0</td>\n",
              "      <td>john christopher depp ii born june american ac...</td>\n",
              "    </tr>\n",
              "    <tr>\n",
              "      <th>1</th>\n",
              "      <td>\\n \\n Alfredo James Pacino (/pəˈtʃiːnoʊ/; Ital...</td>\n",
              "      <td>Celebrity</td>\n",
              "      <td>0</td>\n",
              "      <td>alfredo james pacino p t i no italian pa t i n...</td>\n",
              "    </tr>\n",
              "    <tr>\n",
              "      <th>2</th>\n",
              "      <td>\\n \\n Robert Anthony De Niro Jr. (/də ˈnɪəroʊ/...</td>\n",
              "      <td>Celebrity</td>\n",
              "      <td>0</td>\n",
              "      <td>robert anthony de niro jr d n ro italian de ni...</td>\n",
              "    </tr>\n",
              "    <tr>\n",
              "      <th>3</th>\n",
              "      <td>\\n \\n Kevin Spacey Fowler KBE (born July 26, 1...</td>\n",
              "      <td>Celebrity</td>\n",
              "      <td>0</td>\n",
              "      <td>kevin spacey fowler kbe born july american act...</td>\n",
              "    </tr>\n",
              "    <tr>\n",
              "      <th>4</th>\n",
              "      <td>\\n \\n Denzel Hayes Washington Jr. (born Decemb...</td>\n",
              "      <td>Celebrity</td>\n",
              "      <td>0</td>\n",
              "      <td>denzel hayes washington jr born december ameri...</td>\n",
              "    </tr>\n",
              "  </tbody>\n",
              "</table>\n",
              "</div>"
            ],
            "text/plain": [
              "                                                text  ...                                         clean_text\n",
              "0  \\n John Christopher Depp II (born June 9, 1963...  ...  john christopher depp ii born june american ac...\n",
              "1  \\n \\n Alfredo James Pacino (/pəˈtʃiːnoʊ/; Ital...  ...  alfredo james pacino p t i no italian pa t i n...\n",
              "2  \\n \\n Robert Anthony De Niro Jr. (/də ˈnɪəroʊ/...  ...  robert anthony de niro jr d n ro italian de ni...\n",
              "3  \\n \\n Kevin Spacey Fowler KBE (born July 26, 1...  ...  kevin spacey fowler kbe born july american act...\n",
              "4  \\n \\n Denzel Hayes Washington Jr. (born Decemb...  ...  denzel hayes washington jr born december ameri...\n",
              "\n",
              "[5 rows x 4 columns]"
            ]
          },
          "metadata": {
            "tags": []
          },
          "execution_count": 155
        }
      ]
    },
    {
      "cell_type": "code",
      "metadata": {
        "colab_type": "code",
        "id": "5mqtp255sFPx",
        "colab": {}
      },
      "source": [
        "X = main_data.clean_text\n",
        "y = main_data.label_number"
      ],
      "execution_count": 0,
      "outputs": []
    },
    {
      "cell_type": "code",
      "metadata": {
        "colab_type": "code",
        "id": "tzZxe0ndsFP7",
        "colab": {}
      },
      "source": [
        "pipeline = Pipeline([\n",
        "    (\"count_vect\", CountVectorizer()),\n",
        "    (\"tfidf\", TfidfTransformer()),\n",
        "    (\"clf\", MultinomialNB())\n",
        "])"
      ],
      "execution_count": 0,
      "outputs": []
    },
    {
      "cell_type": "code",
      "metadata": {
        "colab_type": "code",
        "id": "ZV7ph836sFQB",
        "outputId": "526a6d64-711b-4f25-f44b-b4e1a281c081",
        "colab": {
          "base_uri": "https://localhost:8080/",
          "height": 302
        }
      },
      "source": [
        "pipeline.fit(X,y)"
      ],
      "execution_count": 158,
      "outputs": [
        {
          "output_type": "execute_result",
          "data": {
            "text/plain": [
              "Pipeline(memory=None,\n",
              "         steps=[('count_vect',\n",
              "                 CountVectorizer(analyzer='word', binary=False,\n",
              "                                 decode_error='strict',\n",
              "                                 dtype=<class 'numpy.int64'>, encoding='utf-8',\n",
              "                                 input='content', lowercase=True, max_df=1.0,\n",
              "                                 max_features=None, min_df=1,\n",
              "                                 ngram_range=(1, 1), preprocessor=None,\n",
              "                                 stop_words=None, strip_accents=None,\n",
              "                                 token_pattern='(?u)\\\\b\\\\w\\\\w+\\\\b',\n",
              "                                 tokenizer=None, vocabulary=None)),\n",
              "                ('tfidf',\n",
              "                 TfidfTransformer(norm='l2', smooth_idf=True,\n",
              "                                  sublinear_tf=False, use_idf=True)),\n",
              "                ('clf',\n",
              "                 MultinomialNB(alpha=1.0, class_prior=None, fit_prior=True))],\n",
              "         verbose=False)"
            ]
          },
          "metadata": {
            "tags": []
          },
          "execution_count": 158
        }
      ]
    },
    {
      "cell_type": "code",
      "metadata": {
        "colab_type": "code",
        "id": "3VheDQkXsFQH",
        "colab": {}
      },
      "source": [
        "def from_url_to_predict_data(url):\n",
        "  text = get_wiki_data(url)\n",
        "  cleaned_text = clean_text(text)\n",
        "  data_for_prediction = pd.Series(cleaned_text)\n",
        "  return data_for_prediction\n",
        "\n",
        "def get_prediction(url,model):\n",
        "  req_data = from_url_to_predict_data(url)\n",
        "  pred = model.predict(req_data)\n",
        "  return [name for name,code in label_mapper.items() if code == pred][0]"
      ],
      "execution_count": 0,
      "outputs": []
    },
    {
      "cell_type": "code",
      "metadata": {
        "colab_type": "code",
        "id": "qg91yvhYsFQN",
        "outputId": "45f26cf7-0fc2-4fbe-f074-418d722cb5a9",
        "colab": {
          "base_uri": "https://localhost:8080/",
          "height": 34
        }
      },
      "source": [
        "get_prediction(r\"https://en.wikipedia.org/wiki/Machine_learning\", pipeline)"
      ],
      "execution_count": 160,
      "outputs": [
        {
          "output_type": "execute_result",
          "data": {
            "text/plain": [
              "'Statistics'"
            ]
          },
          "metadata": {
            "tags": []
          },
          "execution_count": 160
        }
      ]
    },
    {
      "cell_type": "code",
      "metadata": {
        "colab_type": "code",
        "id": "56gGSvNwsFQR",
        "outputId": "4e4854e9-9129-4f7b-db54-5201253c188f",
        "colab": {
          "base_uri": "https://localhost:8080/",
          "height": 34
        }
      },
      "source": [
        "get_prediction(r\"https://en.wikipedia.org/wiki/Pareto\", pipeline)"
      ],
      "execution_count": 161,
      "outputs": [
        {
          "output_type": "execute_result",
          "data": {
            "text/plain": [
              "'Economics'"
            ]
          },
          "metadata": {
            "tags": []
          },
          "execution_count": 161
        }
      ]
    },
    {
      "cell_type": "code",
      "metadata": {
        "colab_type": "code",
        "id": "hLYQ_Cx00lSN",
        "outputId": "ffdc8469-d865-40dc-d6d1-49d409791a93",
        "colab": {
          "base_uri": "https://localhost:8080/",
          "height": 34
        }
      },
      "source": [
        "get_prediction(r\"https://en.wikipedia.org/wiki/computer_science\", pipeline)"
      ],
      "execution_count": 162,
      "outputs": [
        {
          "output_type": "execute_result",
          "data": {
            "text/plain": [
              "'Mathematics'"
            ]
          },
          "metadata": {
            "tags": []
          },
          "execution_count": 162
        }
      ]
    },
    {
      "cell_type": "code",
      "metadata": {
        "colab_type": "code",
        "id": "pmFBNAbw0lOj",
        "outputId": "210022fb-272a-4026-fbd0-797d821f35dc",
        "colab": {
          "base_uri": "https://localhost:8080/",
          "height": 34
        }
      },
      "source": [
        "get_prediction(r\"https://en.wikipedia.org/wiki/ramanujan\", pipeline)"
      ],
      "execution_count": 163,
      "outputs": [
        {
          "output_type": "execute_result",
          "data": {
            "text/plain": [
              "'Celebrity'"
            ]
          },
          "metadata": {
            "tags": []
          },
          "execution_count": 163
        }
      ]
    },
    {
      "cell_type": "code",
      "metadata": {
        "colab_type": "code",
        "id": "kVqh-Kc60lMd",
        "outputId": "571ba218-1a79-4a14-e922-5afc5a337a8e",
        "colab": {
          "base_uri": "https://localhost:8080/",
          "height": 34
        }
      },
      "source": [
        "get_prediction(r\"https://en.wikipedia.org/wiki/hardy\", pipeline)"
      ],
      "execution_count": 164,
      "outputs": [
        {
          "output_type": "execute_result",
          "data": {
            "text/plain": [
              "'Mathematics'"
            ]
          },
          "metadata": {
            "tags": []
          },
          "execution_count": 164
        }
      ]
    },
    {
      "cell_type": "code",
      "metadata": {
        "colab_type": "code",
        "id": "WSgmiWRD13pU",
        "outputId": "8744e94a-6c7a-44b9-b209-b3c5e1013afe",
        "colab": {
          "base_uri": "https://localhost:8080/",
          "height": 34
        }
      },
      "source": [
        "get_prediction(r\"https://en.wikipedia.org/wiki/confidence_interval\", pipeline)"
      ],
      "execution_count": 165,
      "outputs": [
        {
          "output_type": "execute_result",
          "data": {
            "text/plain": [
              "'Statistics'"
            ]
          },
          "metadata": {
            "tags": []
          },
          "execution_count": 165
        }
      ]
    },
    {
      "cell_type": "code",
      "metadata": {
        "colab_type": "code",
        "id": "zffxm2Di2L2D",
        "outputId": "e762f95d-8101-419d-8288-d79cf4a8347a",
        "colab": {
          "base_uri": "https://localhost:8080/",
          "height": 34
        }
      },
      "source": [
        "get_prediction(r\"https://en.wikipedia.org/wiki/factor_analysis\", pipeline)"
      ],
      "execution_count": 166,
      "outputs": [
        {
          "output_type": "execute_result",
          "data": {
            "text/plain": [
              "'Statistics'"
            ]
          },
          "metadata": {
            "tags": []
          },
          "execution_count": 166
        }
      ]
    },
    {
      "cell_type": "code",
      "metadata": {
        "colab_type": "code",
        "id": "W6R4P4x12QJS",
        "outputId": "535adb6c-d2ba-478c-9edb-c1edb74d8bf4",
        "colab": {
          "base_uri": "https://localhost:8080/",
          "height": 34
        }
      },
      "source": [
        "get_prediction(r\"https://en.wikipedia.org/wiki/big_bang_theory\", pipeline)"
      ],
      "execution_count": 167,
      "outputs": [
        {
          "output_type": "execute_result",
          "data": {
            "text/plain": [
              "'Physics'"
            ]
          },
          "metadata": {
            "tags": []
          },
          "execution_count": 167
        }
      ]
    },
    {
      "cell_type": "code",
      "metadata": {
        "colab_type": "code",
        "id": "LSys87Eo2oyk",
        "colab": {}
      },
      "source": [
        "app = Flask(__name__)\n",
        "run_with_ngrok(app)"
      ],
      "execution_count": 0,
      "outputs": []
    },
    {
      "cell_type": "code",
      "metadata": {
        "colab_type": "code",
        "id": "omKNgS8T2ovK",
        "colab": {}
      },
      "source": [
        "html_style = '''\n",
        "<!DOCTYPE html>\n",
        "<html lang=\"en\">\n",
        "<head>\n",
        "    <meta charset=\"UTF-8\">\n",
        "    <meta name=\"viewport\" content=\"width=device-width, initial-scale=1.0\">\n",
        "    <title>New Style</title>\n",
        "    <style>\n",
        "        body,html,*{\n",
        "            margin:0px;\n",
        "            padding: 0px;\n",
        "        }\n",
        "        .nesto-background{\n",
        "            background: url(https://dtsvkkjw40x57.cloudfront.net/1350xnull/8160/uploads/2ab85f0f-bc62-417f-8a33-a064535a6ebd.jpg);\n",
        "            opacity: 0.9;\n",
        "            height: 300px;\n",
        "            width: 100%;\n",
        "            margin: 0px 0px 10px 0px;\n",
        "            display: flex;\n",
        "            flex-direction: column;\n",
        "            justify-content: center;\n",
        "            align-items: center;\n",
        "        }\n",
        "        .nesto-background div{\n",
        "            align-self: flex-end;\n",
        "        }\n",
        "\n",
        "        h1 {\n",
        "            border: 0px solid #F49200;\n",
        "            background-color: #F49200;\n",
        "            border-radius: 5px;\n",
        "        }\n",
        "        .remaining{\n",
        "            display: flex;\n",
        "            flex-direction: row;\n",
        "        }\n",
        "        .form{\n",
        "            width: 60%;\n",
        "            align-self: flex-start;\n",
        "            margin-top: 100px;\n",
        "        }\n",
        "        .info{\n",
        "            align-self: flex-end;\n",
        "            display: flex;\n",
        "            width:40%;\n",
        "            flex-direction: column;\n",
        "            justify-content: center;\n",
        "            align-items: center;\n",
        "            margin-top: 100px;\n",
        "            margin-left:15px;\n",
        "        }\n",
        "        \n",
        "        form{\n",
        "            display: flex;\n",
        "            flex-direction: column;\n",
        "        }\n",
        "        input[name=url]{\n",
        "            width: 200px;\n",
        "            height: 25px;\n",
        "            margin-top: 20px;\n",
        "            align-self: center;\n",
        "        }\n",
        "\n",
        "        input[name=submit]{\n",
        "            width: 100px;\n",
        "            height: 30px;\n",
        "            outline: none;\n",
        "            border: none;\n",
        "            background-color: #F49200;\n",
        "            color: white;\n",
        "            margin-top: 10px;\n",
        "            align-self: center;\n",
        "        }\n",
        "\n",
        "        h4{\n",
        "            font-size: 20px;\n",
        "            color: #F49200;\n",
        "        }\n",
        "        h3{\n",
        "            color: red;\n",
        "            margin-top: 10px;\n",
        "        }\n",
        "        ul{\n",
        "            margin-top: 10px;\n",
        "        }\n",
        "        li{\n",
        "            margin-left: 30px;\n",
        "        }\n",
        "        h2{\n",
        "            color: #F49200;\n",
        "        }\n",
        "    </style>\n",
        "</head>\n",
        "'''"
      ],
      "execution_count": 0,
      "outputs": []
    },
    {
      "cell_type": "code",
      "metadata": {
        "colab_type": "code",
        "id": "JgRP0qzp2zuZ",
        "colab": {}
      },
      "source": [
        "html_string_not_posted = html_style + '''\n",
        "<body>\n",
        "    <div class=\"nesto-background\">\n",
        "        <h1> Welcome to the Wikipedia Content Classification Application</h1>\n",
        "        <div> <img src = \"https://raw.githubusercontent.com/datageekrj/ForHostingFiles/master/NestoTV_1280x720%20(1).png\" width = \"200\" height = \"80\" style = \"align-self:center;\"></div>\n",
        "    </div>\n",
        "    <div class=\"remaining\">\n",
        "        <div class=\"form\">\n",
        "            <h4>To use this application, Just Enter the URL of the wikipedia Page that you want to classify and hit submit..</h4>\n",
        "            <form method=\"POST\">\n",
        "                <input type=\"text\" name=\"url\" class=\"url\" placeholder=\"Enter URL\">\n",
        "                <input type=\"submit\" name=\"submit\" class=\"submit\">\n",
        "            </form>\n",
        "        </div>\n",
        "        <div class=\"info categories\">\n",
        "            <h2>Categories Included while Training the Naive Bayes Algorithm: </h2>\n",
        "                <ul>\n",
        "                    <li>Celebrity</li>\n",
        "                    <li>Chemistry</li>\n",
        "                    <li>Physics</li>\n",
        "                    <li>Statistics</li>\n",
        "                    <li>Mathematics</li>\n",
        "                    <li>Economics</li>\n",
        "                <h3> Data Source: Data Was Scraped Using Wikipedia by Python using BeautifulSoup</h3>\n",
        "                </ul>\n",
        "        </div>\n",
        "    </div>\n",
        "</body>\n",
        "</html>\n",
        "'''"
      ],
      "execution_count": 0,
      "outputs": []
    },
    {
      "cell_type": "markdown",
      "metadata": {
        "id": "aGXZZj5mS7Mx",
        "colab_type": "text"
      },
      "source": [
        "Whereas on the other hand, once the user is displayed the prediction, there are only two things. \n",
        "\n",
        "* One is the `h1` tag which displays tha prediction and \n",
        "* another is a `a` tag for going back to the first state of the application. "
      ]
    },
    {
      "cell_type": "code",
      "metadata": {
        "colab_type": "code",
        "id": "SLY_9pb-2-W_",
        "colab": {}
      },
      "source": [
        "def get_html_posted_string(data):\n",
        "  required_string = html_style + '''\n",
        "<body>\n",
        "    <div class=\"nesto-background\">\n",
        "        <h1> Welcome to the Wikipedia Content Classification Application</h1>\n",
        "        <div> <img src = \"https://raw.githubusercontent.com/datageekrj/ForHostingFiles/master/NestoTV_1280x720%20(1).png\" width = \"200\" height = \"80\" style = \"align-self:center;\"></div>\n",
        "    </div>\n",
        "    <div class=\"remaining\">\n",
        "        <div style = \"display:flex;flex-direction:column;align-items:center;justify-content:center;\">\n",
        "            <h1>Your URL that you have entered belongs to: <span style=\"color: #707070;\">''' + data + '''\n",
        "</span></h1><br>\n",
        "        <a href=\"/\">Go Back</a>\n",
        "        </div>\n",
        "        <div class=\"info categories\">\n",
        "            <h2>Categories Included while Training the Naive Bayes Algorithm: </h2>\n",
        "                <ul>\n",
        "                    <li>Celebrity</li>\n",
        "                    <li>Chemistry</li>\n",
        "                    <li>Physics</li>\n",
        "                    <li>Statistics</li>\n",
        "                    <li>Mathematics</li>\n",
        "                    <li>Economics</li>\n",
        "                <h3> Data Source: Data Was Scraped Using Wikipedia by Python using BeautifulSoup</h3>\n",
        "                </ul>\n",
        "        </div>\n",
        "    </div>\n",
        "</body>\n",
        "</html>'''\n",
        "  return required_string"
      ],
      "execution_count": 0,
      "outputs": []
    },
    {
      "cell_type": "code",
      "metadata": {
        "colab_type": "code",
        "id": "XbxwAZGO3Q81",
        "colab": {}
      },
      "source": [
        "@app.route('/', methods = [\"GET\", \"POST\"])\n",
        "def index():\n",
        "    if request.method == \"POST\":\n",
        "        url = request.form.get(\"url\")\n",
        "        prediction = get_prediction(url, pipeline)\n",
        "        required_posted_string = get_html_posted_string(prediction)\n",
        "        return required_posted_string\n",
        "    else:\n",
        "        return html_string_not_posted"
      ],
      "execution_count": 0,
      "outputs": []
    },
    {
      "cell_type": "code",
      "metadata": {
        "colab_type": "code",
        "id": "CZ3htCU13Uvu",
        "outputId": "05359c2c-1fbd-429d-f3f8-a9eed266339f",
        "colab": {
          "base_uri": "https://localhost:8080/",
          "height": 101
        }
      },
      "source": [
        "if __name__ == \"__main__\":\n",
        "  app.run()"
      ],
      "execution_count": 0,
      "outputs": [
        {
          "output_type": "stream",
          "text": [
            " * Running on http://127.0.0.1:5000/ (Press CTRL+C to quit)\n"
          ],
          "name": "stderr"
        },
        {
          "output_type": "stream",
          "text": [
            " * Running on http://0c9b1779.ngrok.io\n",
            " * Traffic stats available on http://127.0.0.1:4040\n"
          ],
          "name": "stdout"
        },
        {
          "output_type": "stream",
          "text": [
            "127.0.0.1 - - [01/May/2020 09:45:23] \"\u001b[37mGET / HTTP/1.1\u001b[0m\" 200 -\n",
            "127.0.0.1 - - [01/May/2020 09:45:25] \"\u001b[33mGET /favicon.ico HTTP/1.1\u001b[0m\" 404 -\n"
          ],
          "name": "stderr"
        }
      ]
    },
    {
      "cell_type": "code",
      "metadata": {
        "id": "KpMwgPLZVVwx",
        "colab_type": "code",
        "colab": {}
      },
      "source": [
        ""
      ],
      "execution_count": 0,
      "outputs": []
    }
  ]
}