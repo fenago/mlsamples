{
  "nbformat": 4,
  "nbformat_minor": 0,
  "metadata": {
    "colab": {
      "name": "Tutorial File - Text Summarization.ipynb",
      "provenance": [],
      "collapsed_sections": []
    },
    "kernelspec": {
      "name": "python3",
      "display_name": "Python 3"
    }
  },
  "cells": [
    {
      "cell_type": "markdown",
      "metadata": {
        "id": "kCRzhqzarDmm",
        "colab_type": "text"
      },
      "source": [
        "# Building Text Summarization Web Application in Flask\n",
        "\n",
        "Hello Guys, \n",
        "\n",
        "In this tutorial, we will be building a Text Summarization Web Application in Flask, Python. Before getting too much technical about the inner workings of the application, Let me first demonstrate the working of this application. First, when we build the complete application, we will be greeted with the following screen:\n",
        "\n",
        "<img src = \"https://raw.githubusercontent.com/datageekrj/ForHostingFiles/master/display1.PNG\">\n",
        "\n",
        "Take a good look at the various pieces which are mentioned in the above application. So, there is a Input Field which says `Enter your text here` and then there is a `submit` button which is for submitting and getting the summarized version of the input text.   \n",
        "\n",
        "Now, to demonstrate you the workings of the application, what i have done is taken the following piece of text from [Hyperparameter Tuning](https://towardsdatascience.com/understanding-hyperparameters-optimization-in-deep-learning-models-concepts-and-tools-357002a3338a) and copy and pasted it to the following input field.\n",
        "\n",
        "**Model optimization is one of the toughest challenges in the implementation of machine learning solutions. Entire branches of machine learning and deep learning theory have been dedicated to the optimization of models. Typically, we think about model optimization as a process of regularly modifying the code of the model in order to minimize the testing error. However, deep learning optimization often entails fine tuning elements that live outside the model but that can heavily influence its behavior. Deep learning often refers to those hidden elements as hyperparameters as they are one of the most critical components of any machine learning application.\n",
        "Hyperparameters are settings that can be tuned to control the behavior of a machine learning algorithm. Conceptually, hyperparameters can be considered orthogonal to the learning model itself in the sense that, although they live outside the model, there is a direct relationship between them.\n",
        "The criteria of what defines a hyperparameter is incredibly abstract and flexible. Sure, there are well established hyperparameters such as the number of hidden units or the learning rate of a model but there are also an arbitrarily number of settings that can play the role of hyperparameters for specific models. In general, hyperparameters are very specific to the type of machine learning model you are trying to optimize. Sometimes, a setting is modeled as a hyperparameter because is not appropriate to learn it from the training set. A classic example are settings that control the capacity of a model (the spectrum of functions that the model can represent). If a deep learning algorithm learns those settings directly from the training set, then it is likely to try to optimize for that dataset which will cause the model to overfit( poor generalization).\n",
        "If hyperparameters are not learned from the training set, then how does a model learn them? Remember that classic rule in machine learning models to split the input dataset in an 80/20 percent ratio between the training set and the validation set respectively? Well, part of the role of that 20% validation set is to guide the selection of hyperparameters. Technically, the validation set is used to “train” the hyperparameters prior to optimization.**\n",
        "\n",
        "The following is a quick display of application once the data is entered:\n",
        "\n",
        "<img src = \"https://raw.githubusercontent.com/datageekrj/ForHostingFiles/master/display2.PNG\">\n",
        "\n",
        "Now, after entering the text, I will hit submit button and then i will be displayed the summarized version of the above text and it will look like the following:\n",
        "\n",
        "<img src = \"https://raw.githubusercontent.com/datageekrj/ForHostingFiles/master/display3.PNG\"> \n",
        "\n",
        "Now, notice how the summarized version of the entered text is displayed above. You might be wondering how long is this new text.\n",
        "\n",
        "This new text will always be having 30% of the original text. Now, this is something that you can easily change and i will show exactly how you might be able to do this. "
      ]
    },
    {
      "cell_type": "markdown",
      "metadata": {
        "id": "0DlMSVXKx_HA",
        "colab_type": "text"
      },
      "source": [
        "# Steps to create this Application...\n",
        "\n",
        "**Learning Objectives:**\n",
        "  * Logic of the text summarizing function using `nltk` library:\n",
        "      * Take a text input\n",
        "      * Extract all the sentences of the text = sentences tokenize\n",
        "      * Extract all the words of the text = word tokenize\n",
        "      * Create a weighted word frequency dictionary\n",
        "      * Weight all the sentences, higher the weight, more important the sentence will be\n",
        "      * Choose top x% of the sentences list which can be changed according to the use case.\n",
        "  * Building a function for handling and taking any text input and returning the summarized version of the text in 30%. \n",
        "  * Finally, building the Flask Web Application and embedding the model that we have created. "
      ]
    },
    {
      "cell_type": "markdown",
      "metadata": {
        "id": "0mX87Rntzizn",
        "colab_type": "text"
      },
      "source": [
        "# Installing the necessary Modules\n",
        "\n",
        "The following code will be run and all the necessary modules will be installed to make sure that you all guys on the same place and can start building the application.."
      ]
    },
    {
      "cell_type": "code",
      "metadata": {
        "id": "ur6HuBLcz6zd",
        "colab_type": "code",
        "colab": {
          "base_uri": "https://localhost:8080/",
          "height": 437
        },
        "outputId": "95d0d63a-b799-4f25-8576-0cb45979b9b5"
      },
      "source": [
        "!pip install pandas\n",
        "!pip install flask\n",
        "!pip install flask-ngrok\n",
        "!pip install nltk"
      ],
      "execution_count": 35,
      "outputs": [
        {
          "output_type": "stream",
          "text": [
            "Requirement already satisfied: pandas in /usr/local/lib/python3.6/dist-packages (1.0.3)\n",
            "Requirement already satisfied: python-dateutil>=2.6.1 in /usr/local/lib/python3.6/dist-packages (from pandas) (2.8.1)\n",
            "Requirement already satisfied: numpy>=1.13.3 in /usr/local/lib/python3.6/dist-packages (from pandas) (1.18.3)\n",
            "Requirement already satisfied: pytz>=2017.2 in /usr/local/lib/python3.6/dist-packages (from pandas) (2018.9)\n",
            "Requirement already satisfied: six>=1.5 in /usr/local/lib/python3.6/dist-packages (from python-dateutil>=2.6.1->pandas) (1.12.0)\n",
            "Requirement already satisfied: flask in /usr/local/lib/python3.6/dist-packages (1.1.2)\n",
            "Requirement already satisfied: Werkzeug>=0.15 in /usr/local/lib/python3.6/dist-packages (from flask) (1.0.1)\n",
            "Requirement already satisfied: Jinja2>=2.10.1 in /usr/local/lib/python3.6/dist-packages (from flask) (2.11.2)\n",
            "Requirement already satisfied: itsdangerous>=0.24 in /usr/local/lib/python3.6/dist-packages (from flask) (1.1.0)\n",
            "Requirement already satisfied: click>=5.1 in /usr/local/lib/python3.6/dist-packages (from flask) (7.1.1)\n",
            "Requirement already satisfied: MarkupSafe>=0.23 in /usr/local/lib/python3.6/dist-packages (from Jinja2>=2.10.1->flask) (1.1.1)\n",
            "Requirement already satisfied: flask-ngrok in /usr/local/lib/python3.6/dist-packages (0.0.25)\n",
            "Requirement already satisfied: requests in /usr/local/lib/python3.6/dist-packages (from flask-ngrok) (2.21.0)\n",
            "Requirement already satisfied: Flask>=0.8 in /usr/local/lib/python3.6/dist-packages (from flask-ngrok) (1.1.2)\n",
            "Requirement already satisfied: idna<2.9,>=2.5 in /usr/local/lib/python3.6/dist-packages (from requests->flask-ngrok) (2.8)\n",
            "Requirement already satisfied: urllib3<1.25,>=1.21.1 in /usr/local/lib/python3.6/dist-packages (from requests->flask-ngrok) (1.24.3)\n",
            "Requirement already satisfied: certifi>=2017.4.17 in /usr/local/lib/python3.6/dist-packages (from requests->flask-ngrok) (2020.4.5.1)\n",
            "Requirement already satisfied: chardet<3.1.0,>=3.0.2 in /usr/local/lib/python3.6/dist-packages (from requests->flask-ngrok) (3.0.4)\n",
            "Requirement already satisfied: itsdangerous>=0.24 in /usr/local/lib/python3.6/dist-packages (from Flask>=0.8->flask-ngrok) (1.1.0)\n",
            "Requirement already satisfied: Jinja2>=2.10.1 in /usr/local/lib/python3.6/dist-packages (from Flask>=0.8->flask-ngrok) (2.11.2)\n",
            "Requirement already satisfied: Werkzeug>=0.15 in /usr/local/lib/python3.6/dist-packages (from Flask>=0.8->flask-ngrok) (1.0.1)\n",
            "Requirement already satisfied: click>=5.1 in /usr/local/lib/python3.6/dist-packages (from Flask>=0.8->flask-ngrok) (7.1.1)\n",
            "Requirement already satisfied: MarkupSafe>=0.23 in /usr/local/lib/python3.6/dist-packages (from Jinja2>=2.10.1->Flask>=0.8->flask-ngrok) (1.1.1)\n",
            "Requirement already satisfied: nltk in /usr/local/lib/python3.6/dist-packages (3.2.5)\n",
            "Requirement already satisfied: six in /usr/local/lib/python3.6/dist-packages (from nltk) (1.12.0)\n"
          ],
          "name": "stdout"
        }
      ]
    },
    {
      "cell_type": "markdown",
      "metadata": {
        "id": "qTW7mG5EyDfB",
        "colab_type": "text"
      },
      "source": [
        "## Importing the necessary Modules\n",
        "\n",
        "Before we actually start the actual coding process, we need to first import the nessary modules that we will require in the buinding of the application.\n",
        "\n",
        "So, Let us do that.."
      ]
    },
    {
      "cell_type": "code",
      "metadata": {
        "id": "RqCeIyfdzYWx",
        "colab_type": "code",
        "colab": {}
      },
      "source": [
        "from flask import Flask,request\n",
        "from flask_ngrok import run_with_ngrok\n",
        "import nltk\n",
        "import pandas as pd\n",
        "import re"
      ],
      "execution_count": 0,
      "outputs": []
    },
    {
      "cell_type": "markdown",
      "metadata": {
        "id": "iCte3UPQyHEy",
        "colab_type": "text"
      },
      "source": [
        "# Let us briefly explain the objective of each of the above module\n",
        "\n",
        "**Module Explanation:**\n",
        "  * `flask` for building the web application server in python \n",
        "  * `pandas` is for making a data frame of the entered text and then choosing the top sentences according to their weights.\n",
        "  * `nltk` for accesing the functions `sent_tokenize` and `word_tokenize` which will be used to calculated the weights of the sentences.  \n",
        "  * `flask_ngrok` for building an alternative server. Why do we need an alternative server? You might ask. `Flask` by defalut runs on the local server and it is fine if you are building this application on locally but if you are using some cloud services like `amazon aws`, `colab`, `azure notebooks`, then in that case if you run the flask application, then it is simply not going to work. For these type of situations, we have imported this library to make sure that we have an alternative server for flask application with which we can access the flask application.\n",
        "  * `re` for some text parsing and regular expression function for data cleaning."
      ]
    },
    {
      "cell_type": "markdown",
      "metadata": {
        "id": "3JRdvNSV0k-L",
        "colab_type": "text"
      },
      "source": [
        "After importing all the necessary modules, we have to download few necessary things.\n",
        "\n",
        "We need to download the following two corpus from the `nltk` library. This is important because we use the `stopwords` list from `nltk` and we download `punkt`.  "
      ]
    },
    {
      "cell_type": "code",
      "metadata": {
        "id": "LFu1SmjxyTi1",
        "colab_type": "code",
        "colab": {
          "base_uri": "https://localhost:8080/",
          "height": 101
        },
        "outputId": "9dbccf3e-a8e3-4592-b790-35d782ed7c89"
      },
      "source": [
        "nltk.download(\"stopwords\")\n",
        "nltk.download(\"punkt\")"
      ],
      "execution_count": 37,
      "outputs": [
        {
          "output_type": "stream",
          "text": [
            "[nltk_data] Downloading package stopwords to /root/nltk_data...\n",
            "[nltk_data]   Package stopwords is already up-to-date!\n",
            "[nltk_data] Downloading package punkt to /root/nltk_data...\n",
            "[nltk_data]   Package punkt is already up-to-date!\n"
          ],
          "name": "stdout"
        },
        {
          "output_type": "execute_result",
          "data": {
            "text/plain": [
              "True"
            ]
          },
          "metadata": {
            "tags": []
          },
          "execution_count": 37
        }
      ]
    },
    {
      "cell_type": "markdown",
      "metadata": {
        "id": "OU-l1FNb8B40",
        "colab_type": "text"
      },
      "source": [
        "# Logic of the Text Summarization Application..\n",
        "\n",
        "## Weighted Text Rank or Sentence Ranking Algorithm for Text Summarizatio using NLTK\n",
        "\n",
        "Now, we will start talking about the logic of the text summarization application that we saw earlier.\n",
        "\n",
        "Before actually discussing anything, first let us look at the following function `get_weighted_dictionary(words, stopwords)`\n"
      ]
    },
    {
      "cell_type": "code",
      "metadata": {
        "id": "cqOouDaG4g8r",
        "colab_type": "code",
        "colab": {}
      },
      "source": [
        "def get_weighted_dictionary(words, stopwords):\n",
        "  words_freq = {}\n",
        "  for word in words:\n",
        "    if word not in stopwords:\n",
        "      if word not in words_freq:\n",
        "        words_freq[word] = 1\n",
        "      else:\n",
        "        words_freq[word] += 1\n",
        "  max_freq = max(words_freq.values())\n",
        "  for key in words_freq.keys():\n",
        "    words_freq[key] /= max_freq\n",
        "  return words_freq"
      ],
      "execution_count": 0,
      "outputs": []
    },
    {
      "cell_type": "markdown",
      "metadata": {
        "id": "50_xXDPN81Sn",
        "colab_type": "text"
      },
      "source": [
        "Before actually going inside the above function, let us try to run this function with some inputs and see what is the output we are getting..\n",
        "\n",
        "We will first extract the stopwords from the `nltk` librarywhich we can pass to the above functions.  "
      ]
    },
    {
      "cell_type": "code",
      "metadata": {
        "id": "-78XjSp48-_F",
        "colab_type": "code",
        "colab": {
          "base_uri": "https://localhost:8080/",
          "height": 34
        },
        "outputId": "14ed3389-1da1-4718-93eb-e9d4182f99dc"
      },
      "source": [
        "stopwords = nltk.corpus.stopwords.words(\"english\")\n",
        "word1 = [\"Hello\", \"Yes\", \"Bye\", \"Hello\", \"Bye\", \"Rahul\", \"Bye\", \"Bye\", \"Jai\"]\n",
        "dict1 = get_weighted_dictionary(word1, stopwords)\n",
        "dict1"
      ],
      "execution_count": 39,
      "outputs": [
        {
          "output_type": "execute_result",
          "data": {
            "text/plain": [
              "{'Bye': 1.0, 'Hello': 0.5, 'Jai': 0.25, 'Rahul': 0.25, 'Yes': 0.25}"
            ]
          },
          "metadata": {
            "tags": []
          },
          "execution_count": 39
        }
      ]
    },
    {
      "cell_type": "markdown",
      "metadata": {
        "id": "_PbpdZ9s9f6_",
        "colab_type": "text"
      },
      "source": [
        "Try to understand the output that we are getting after running the above function and do not yet think about what's going inside this function. \n",
        "\n",
        "The word \"Bye\" has maximum value of 1 followed by \"Hello\" of 0.5. The reason for this is that the list of words has the \"Bye\" with the maximum frequency. \n",
        "\n",
        "Similary, after that, the word \"Hello\" has the next least frequency. "
      ]
    },
    {
      "cell_type": "markdown",
      "metadata": {
        "id": "RqCoWME_-Zcg",
        "colab_type": "text"
      },
      "source": [
        "Now, once the output makes sense, we can now start talking about the inner workings of the above function and see how it actually works?\n",
        "\n",
        "* First, we initialize an empty dictionary.\n",
        "* Then, we loop through the words.\n",
        "* For each word, we check two things, First if it is not in the stopwords list \n",
        "* and then we need to check if it is not in that empty dictionary, and if it is not in that empty dictionary, we initialize its frequency to 1 and otheriwse we increment it by one.\n",
        "* After, loop ends, we will have a dictionary with all the words in `words` list and corresponding frequency with it.\n",
        "* Then, to normaize these frequency, we divide the frequency with maximum frequency."
      ]
    },
    {
      "cell_type": "markdown",
      "metadata": {
        "id": "SQPfhymzNF51",
        "colab_type": "text"
      },
      "source": [
        "Now, let us understand the function `get_sentence_score(sentences, word_freq, stopwords)` which takes sentences list and word_freq and will return a list of scores of the corresponding sentences. Before, understanding about this function, let us first run this function with a list of sentences made from the above `word1` list. "
      ]
    },
    {
      "cell_type": "code",
      "metadata": {
        "id": "p0KIr6zw4-5U",
        "colab_type": "code",
        "colab": {}
      },
      "source": [
        "def get_sentence_score(sentences, word_freq, stopwords):\n",
        "  sentences_score = []\n",
        "  for sent in sentences:\n",
        "    current_words = nltk.word_tokenize(sent)\n",
        "    current_score = 0\n",
        "    for word in current_words:\n",
        "      if word not in stopwords:\n",
        "        current_score += word_freq[word]\n",
        "    sentences_score.append(current_score)\n",
        "  return sentences_score"
      ],
      "execution_count": 0,
      "outputs": []
    },
    {
      "cell_type": "markdown",
      "metadata": {
        "id": "tAUWQpgvNs5S",
        "colab_type": "text"
      },
      "source": [
        "Let us call this function with some sentences:"
      ]
    },
    {
      "cell_type": "code",
      "metadata": {
        "id": "ighFX-ZbNwdq",
        "colab_type": "code",
        "colab": {
          "base_uri": "https://localhost:8080/",
          "height": 34
        },
        "outputId": "f23981fc-ea6f-4c33-bc1f-7d41c2cc4c65"
      },
      "source": [
        "sent = [\"Hello Rahul\", \"Yes\", \"Hello and Bye Rahul\"]\n",
        "get_sentence_score(sent, dict1, stopwords)"
      ],
      "execution_count": 41,
      "outputs": [
        {
          "output_type": "execute_result",
          "data": {
            "text/plain": [
              "[0.75, 0.25, 1.75]"
            ]
          },
          "metadata": {
            "tags": []
          },
          "execution_count": 41
        }
      ]
    },
    {
      "cell_type": "markdown",
      "metadata": {
        "id": "H_JOBSltOM3f",
        "colab_type": "text"
      },
      "source": [
        "Now, the above code produces a list of scores and the higher the score, the higher this particular sentence has a say in the final summzarization.\n",
        "\n",
        "Make sure the above output makes sense to you and once it does, then let us go further in understanding how does this function works..."
      ]
    },
    {
      "cell_type": "markdown",
      "metadata": {
        "id": "j_QsSCOLOi2X",
        "colab_type": "text"
      },
      "source": [
        "### `get_sentence_score()`\n",
        "\n",
        "This function takes three arguments `sentences` list, `word_freq` dictionary and `stopwords` list. \n",
        "\n",
        "* We first make an empty list to store the sentences score.\n",
        "* We loop through each sentences and begin by \n",
        "  * setting the current score = 0\n",
        "  * The, we look for the normalized frequency in the word_freq dictionary\n",
        "  * and add that corresponding freq to the current_freq\n",
        "* Finally, after the loop ends, we append that current score to the list of sentences scores and finally return that score list."
      ]
    },
    {
      "cell_type": "markdown",
      "metadata": {
        "id": "jZ3nnYhNPozW",
        "colab_type": "text"
      },
      "source": [
        "## Finally, creating a helpful function called `get_summary(text, percentage = 0.3)`.\n",
        "\n",
        "This function, what it does is, given a `text` string, it will come up with a summary of the given text using the 30% of the sentences by default but you can give whatever percentage you desire. This function uses the two helpful function that we have created and talked about earlier..\n",
        "\n",
        "Let us first run this function on a sample text and see how does it work.."
      ]
    },
    {
      "cell_type": "code",
      "metadata": {
        "id": "kgEEVvQVyi9w",
        "colab_type": "code",
        "colab": {}
      },
      "source": [
        "def get_summary(text, percentage = 0.3):\n",
        "  sentences = nltk.sent_tokenize(text)\n",
        "  stopwords = nltk.corpus.stopwords.words(\"english\")\n",
        "  words = nltk.word_tokenize(text)\n",
        "  word_freq = get_weighted_dictionary(words, stopwords)\n",
        "  sentences_score = get_sentence_score(sentences, word_freq, stopwords)\n",
        "  data = pd.DataFrame({\"sentence\":sentences, \"score\":sentences_score})\n",
        "  n = data.shape[0]\n",
        "  top = data.sort_values(by = \"score\", ascending=False).iloc[0:int(n*percentage),0]\n",
        "  return \" \".join(top)"
      ],
      "execution_count": 0,
      "outputs": []
    },
    {
      "cell_type": "code",
      "metadata": {
        "id": "tB1ETyokRgNa",
        "colab_type": "code",
        "colab": {
          "base_uri": "https://localhost:8080/",
          "height": 34
        },
        "outputId": "3e3408f1-767b-4fa8-b2fe-28f67cf61270"
      },
      "source": [
        "get_summary(\"Machine Learning is really cool. Machine Learning finds it application in statistical and data mining application. Machine Learning takes data and returns a prediction on that data. There are many cool applications of machine learning. Machine Learning has enabled data scientists to find hidden patterns in data.\")"
      ],
      "execution_count": 43,
      "outputs": [
        {
          "output_type": "execute_result",
          "data": {
            "text/plain": [
              "'Machine Learning has enabled data scientists to find hidden patterns in data.'"
            ]
          },
          "metadata": {
            "tags": []
          },
          "execution_count": 43
        }
      ]
    },
    {
      "cell_type": "markdown",
      "metadata": {
        "id": "4V0TeR2NSPfu",
        "colab_type": "text"
      },
      "source": [
        "So, i called the `get_summary(text, percentage = 0.3)` function on the following data...\n",
        "\n",
        "**Machine Learning is really cool. Machine Learning finds it application in statistical and data mining application. Machine Learning takes data and returns a prediction on that data. There are many cool applications of machine learning. Machine Learning has enabled data scientists to find hidden patterns in data.**\n",
        "\n",
        "The resulting summary is a one line summary which is looking quite cool because it clearly captures the whole idea of the passage. Now, that we have a working understanding of the above function, let us now start to understand the inner workings of it...\n",
        "\n",
        "### `get_summary(text, percentage = 0.3)`\n",
        "\n",
        "This function takes two inputs `text` and `percentage` which defaults to 0.3. \n",
        "\n",
        "* First, using the nltk's `sent_tokenize` function, we get a list of sentences.\n",
        "* Then, using the nltk's `word_tokenize` function, we get a list of words.\n",
        "* Then, we access the stopwords collection of the `stopwords` of the `nltk` library.\n",
        "* After that, we call the helper functions `get_weighted_dictionary()` and `get_sentence_score()`  to get a list of sentences with their scores,\n",
        "* Finally, we make a data frame from these two lists `sentences` and `scores`. and then sort them to get top 30% of the sentences.\n",
        "* Once, we have those top 30% of the sentences based on their normalized scores, we join them using space. \n",
        "\n",
        "Now, that we have a function `get_summary` which produces a summarized version of any text, we can now get started to build web application which uses this function to produce the summary of any input text.\n"
      ]
    },
    {
      "cell_type": "markdown",
      "metadata": {
        "id": "a6m9YOb9yjnv",
        "colab_type": "text"
      },
      "source": [
        "# Building the web application\n",
        "\n",
        "To build the web application, we are going to be using a framework in python called `flask`. It is one of the most lightweight frameworks out there.\n",
        "\n",
        "We have instantiated a `app` variable by calling the `Flask` constructor. Further, notice that we have wrapped the `app` variable with the function `run_with_ngrok` which enables us to run an online server and local server.\n",
        "\n",
        "So, we will have two links. \n",
        "\n",
        "* If you are working on your local machine, then open the local link\n",
        "* If you are running on cloud platforms like, `colab`, run with online link. \n",
        "\n",
        "I will mention at the end of the lecture, which one is which.\n"
      ]
    },
    {
      "cell_type": "code",
      "metadata": {
        "id": "IIAg40CWUhcH",
        "colab_type": "code",
        "colab": {}
      },
      "source": [
        "app = Flask(__name__)\n",
        "run_with_ngrok(app)"
      ],
      "execution_count": 0,
      "outputs": []
    },
    {
      "cell_type": "markdown",
      "metadata": {
        "id": "8WfGJXgtyuGP",
        "colab_type": "text"
      },
      "source": [
        "## Making sense of the following `html_style` variable. \n",
        "\n",
        "First of let us understand what the heck is this long string? Look at the cell below and you will find a long `HTML` string. \n",
        "\n",
        "If you are familiar with `HTML`, then the following string is just a piece of cake for you. But even if you are not, then also after reading this small discussion on `HTML` everything will start to make sense. \n",
        "\n",
        "### HTML - The language of Web\n",
        "\n",
        "HTML stands for `Hyper Text Markup Language` and it is the language of the web. With the help of HTML, we can define the structure of the web application that we want to build. \n",
        "\n",
        "`HTML` decides the structure of a web page. Whatever you see on the web page is structured because of `HTML`. Now, everything on our `wikipedia content classification application` is also structured using `HTML`.\n",
        "\n",
        "But Note here, HTML only handles the structure of the application while the look and feel of your application is handled by another technique called `CSS`. More on that later. \n",
        "\n",
        "Now, what do we mean by look and feel? All the colors, position, layout is decided by `CSS`.\n",
        "\n",
        "To understand the following string, first of all understand that everything in `HTML` is made up of tags. \n",
        "\n",
        "What are tags? You might wonder..\n",
        "\n",
        "Tags in HTML are made up of opening and closing tags. Opening tags looks like `<tag_name>` and closing tags looks like `</tag_name>`. \n",
        "\n",
        "\n",
        "Let us take the example of our application. It has a input box, a submit button, various texts (bottom of the application which has some texts after the input box and submit button). \n",
        "\n",
        "Also, the application has one image, on which we have the heading of the application and some orange color (which comes under CSS). \n",
        "\n",
        "The header on the image of the application can be handled by header tags. There can be various different types of header tags: \n",
        "\n",
        "* `h1` header tag\n",
        "* `h2` header tag\n",
        "* `h3` header tag\n",
        "* `h4` header tag\n",
        "* `h4` header tag\n",
        "\n",
        "\n",
        "These all are used to place header for the HTML content. Each of them differs from each other because of the the size. \n",
        "\n",
        "Taking `h1` as an example, the opening tag would look like `<h1>` and the closing tag would look like `</h1>`. The content will be placed in between. \n",
        "\n",
        "Now, there are some types of tags which are self closing which means for those tags, there are no closing tags. `input` tag is one of the example self closing tag. \n",
        "\n",
        "Now, if you look very closely on the following `html_style` variable, then you will notice that everything is just `tags` nothing else. \n",
        "\n",
        "Now, if you want to structure the HTML page, then only tag that we have to concentrate on is `<body></body>`.\n",
        "\n",
        "In side, this tag, most of the application resides.  One more tag which is important is `<div></div>` tag which is for making some sensible divisions on the HTML pages. \n",
        "\n",
        "### One special tag `<style> </style>`\n",
        "\n",
        "In this style tag, most of the colors and position of `HTML` elements has been decided. If you observe the following `html_style` text below, most of the content reside in between `<style>` and `</style>`. If you don't notice this immediately, I want all of you to stop right now and notice this right now. Then, you can move on.\n",
        "\n",
        "\n"
      ]
    },
    {
      "cell_type": "code",
      "metadata": {
        "id": "xkpT89oAVWNM",
        "colab_type": "code",
        "colab": {}
      },
      "source": [
        "html_style = '''<!DOCTYPE html>\n",
        "<html lang=\"en\">\n",
        "<head>\n",
        "    <meta charset=\"UTF-8\">\n",
        "    <meta name=\"viewport\" content=\"width=device-width, initial-scale=1.0\">\n",
        "    <title>Text Summarizer</title>\n",
        "    <style>\n",
        "        *,html,body{\n",
        "            margin:0px;\n",
        "            padding: 0px;\n",
        "        }\n",
        "        #header{\n",
        "            background: url(https://dtsvkkjw40x57.cloudfront.net/1350xnull/8160/uploads/2ab85f0f-bc62-417f-8a33-a064535a6ebd.jpg);\n",
        "            opacity: 0.9;\n",
        "            height: 300px;\n",
        "            width: 100%;\n",
        "            margin: 0px 0px 10px 0px;\n",
        "            display: flex;\n",
        "            flex-direction: column;\n",
        "            justify-content: center;\n",
        "            align-items: center;\n",
        "        }\n",
        "\n",
        "        #header h1 {\n",
        "            border: 0px solid #F49200;\n",
        "            background-color: #F49200;\n",
        "            border-radius: 5px;\n",
        "        }\n",
        "        #form-input,#output\n",
        "        {\n",
        "            display: flex;\n",
        "            flex-direction: column;\n",
        "            justify-content: center;\n",
        "            align-items: center;\n",
        "        }\n",
        "        #output{\n",
        "          display: flex;\n",
        "            flex-direction: column;\n",
        "            justify-content: center;\n",
        "            align-items: center;\n",
        "            width:600px;\n",
        "            margin:auto;\n",
        "        }\n",
        "        textarea{\n",
        "            width: 500px;\n",
        "            height: 100px;\n",
        "            border: 1px solid orange;\n",
        "            resize: none;\n",
        "        }\n",
        "        input{\n",
        "            background-color: orange;\n",
        "            color: white;\n",
        "            border:none;\n",
        "            outline: none;\n",
        "            border-radius: 5px;\n",
        "            width:70px;\n",
        "            height: 30px;\n",
        "        }\n",
        "        form,#output{\n",
        "            margin-top: 10px;\n",
        "        }\n",
        "        #output p{\n",
        "            border: 1px solid orange;\n",
        "            border-radius: 5px;\n",
        "            padding: 2px 2px 0px 2px;\n",
        "        }\n",
        "\n",
        "        a{\n",
        "            margin-top: 10px;\n",
        "        }\n",
        "        #desc{\n",
        "            display: flex;\n",
        "            flex-direction: column;\n",
        "            justify-content: center;\n",
        "            align-items: center;\n",
        "            margin-top: 30px;\n",
        "        }\n",
        "        ul{\n",
        "            margin-top: 10px;\n",
        "        }\n",
        "    </style>\n",
        "</head>\n",
        "<body>\n",
        "    <div id=\"header\">\n",
        "        <h1 style=\"color: white;\">Welcome to Text Summarization Application</h1>\n",
        "    </div>\n",
        "'''"
      ],
      "execution_count": 0,
      "outputs": []
    },
    {
      "cell_type": "markdown",
      "metadata": {
        "id": "m25R25PqyzTe",
        "colab_type": "text"
      },
      "source": [
        "## Two states of our application - Posted or not Posted\n",
        "\n",
        "The final application will be having two different states. One, where the user of the application will be shown the input box and some information about the application. The another state is where the user will submit the text to get the summarization of. \n",
        "\n",
        "So, for each of these states, We have different `HTML` string. One which is shown when the User visits the application `not_posted` and one where the user posts some text and expects the summarized version of that entered text and for that notice we have created a lambda function called `posted(data)` which accepts the data argument and that data is nothing but the summarized version of the text posted by user.\n",
        "\n",
        "Notice one thing, we add html_style to the beginning in both the states (`not_posted` and in the function `posted(data)`). It is because the application style (which is color, font size, and all other styles are consistent for both the states of the application). \n",
        "\n",
        "Hence, although the user might be looking at the welcome screen of the application or he might be looking at the screen where the result is displayed after he submitted his text, for both of these states, the style should be same and that style we declared earlier as `html_style`.\n",
        "\n",
        "Now, remember the screen which is displayed once the user opens the app?\n",
        "\n",
        "This is the state when the `input` is shown. In that page, there were lot of things. Like text `Welcome to the Text Summarization Application` and other texts. Also, we had list of informing users about the algorithm that we have used in the application. \n",
        "\n",
        "\n"
      ]
    },
    {
      "cell_type": "code",
      "metadata": {
        "id": "vLMeQR9oy7oQ",
        "colab_type": "code",
        "colab": {}
      },
      "source": [
        "not_posted = '''\n",
        "<div id=\"form-input\">\n",
        "        <h3>Please Enter Your Text Here....</h3>\n",
        "        <form method=\"POST\">\n",
        "            <textarea id = \"text\" name=\"text\" placeholder=\"Enter your text here...\"></textarea>\n",
        "            <input type=\"submit\" id=\"submit\">\n",
        "        </form>\n",
        "    </div>'''"
      ],
      "execution_count": 0,
      "outputs": []
    },
    {
      "cell_type": "code",
      "metadata": {
        "id": "ZvzcOMIpVbcV",
        "colab_type": "code",
        "colab": {}
      },
      "source": [
        "posted = lambda x : '''\n",
        "<div id=\"output\">\n",
        "        <h3>Here is the summarized version of the text you provided....</h3>\n",
        "        <p>''' + x + '''</p>\n",
        "        <a href=\"/\">Go Back</a>\n",
        "    </div>\n",
        "'''"
      ],
      "execution_count": 0,
      "outputs": []
    },
    {
      "cell_type": "markdown",
      "metadata": {
        "id": "JMLZ9Pq5aTyw",
        "colab_type": "text"
      },
      "source": [
        "## bottom\n",
        "\n",
        "For the bottom part of the application, we have one more `HTML` which lists all the information about the application like how this works and which algorithm is used by this application."
      ]
    },
    {
      "cell_type": "code",
      "metadata": {
        "id": "PdnM7wQHVeUS",
        "colab_type": "code",
        "colab": {}
      },
      "source": [
        "bottom = '''\n",
        "<div id = \"desc\">\n",
        "        <h2>Here is a Little description on how the algorithm works...</h2>\n",
        "        <ul>\n",
        "            <li>This uses one of the most powerful algorithms in Natural Language Processing for Summarization Called TextRank.</li>\n",
        "            <li>It is the same algorithm which was used by Google to rank the search results to show you the best results.</li>\n",
        "            <li>You enter the text in the Input and the text data is sent to the server.</li>\n",
        "            <li>One the server receives the text, we have a function which will receive the entered text and it is going to apply Text Rank algorithm.</li>\n",
        "            <li>Then, that function is going to produce a summarized version of the entered text.</li>\n",
        "        </ul>\n",
        "    </div>\n",
        "</body>\n",
        "</html>\n",
        "'''"
      ],
      "execution_count": 0,
      "outputs": []
    },
    {
      "cell_type": "markdown",
      "metadata": {
        "id": "NlAFu4ply8Sj",
        "colab_type": "text"
      },
      "source": [
        "## Creating the 'route' for our web application\n",
        "\n",
        "Now, that we have defined the necessry html structure and saved that structure in some separate variables, we need to create the route of the web application. \n",
        "\n",
        "### What is route?\n",
        "\n",
        "Route is just a fancy word for saying `URL`. \n",
        "\n",
        "A web application is just like any other website you visit online. Now, when you visit any website you enter some `URL` and that `URL` is what we are talking about here.\n",
        "\n",
        "So, since we want our web application to run on our own system. We don't want to share it with world. So, we have to create some way to open the web application on our local system.  \n",
        "\n",
        "**Further, with the help of `flask-ngrok`, we can also run the application online as long as the flask server on the cloud is running.**\n",
        "\n",
        "Hence, we create route for this purpose. \n",
        "\n",
        "So, before the function `index()`, we have a statement which starts with `@` which has a special name in python `decoraters`. \n",
        "\n",
        "Inside this route we say that the URL is `'/'` and we will accept two types of methods `GET` and `POST`. \n",
        "\n",
        "### Now, let us understand what do we mean by methods?\n",
        "\n",
        "Remember, when we talked about the states of the application. There were two states:\n",
        "\n",
        "* Where you are welcomed to enter the `text` for summarization == `GET` request\n",
        "* Once the user enters the texts, he will be displayed the summarization == `POST` request\n",
        "\n",
        "Also, if you remember, we had two different types of string for both of the different types methods. For `GET` requests, we had `not_posted` while for the `POST` request we had a function which will take the `data` and give us the corresponding `HTML` representation and the function was lambda function in python called `posted()`\n",
        "\n",
        "Now, inside the `index()` function, we then test whether the request that user is making (the type of request) type is 'POST' or it is 'GET'. \n",
        "\n",
        "If the method is not `POST`, in the else block, we just return the `not_posted` while in the post, we first get the text content that the user has entered using the `request.form.get` method. Once, the text has been extracted, we call the `get_summary(text, percentage = 0.3)` function with the extracted text and the function will perform all the sequence of steps that we discussed and compute a summarized version of the text.  \n",
        "\n",
        "Once we get summary text, we store it in a variable called, `summarized_text` which will be passed to the lambda function `posted(data)` and the can be concatenated to html_style and bottom_style and can be returned."
      ]
    },
    {
      "cell_type": "code",
      "metadata": {
        "id": "_3vnOM-zyj_W",
        "colab_type": "code",
        "colab": {}
      },
      "source": [
        "@app.route(\"/\", methods = [\"GET\", \"POST\"])\n",
        "def index():\n",
        "    if request.method == \"POST\":\n",
        "        required_text = request.form.get(\"text\")\n",
        "        summarized_text = get_summary(required_text, percentage = 0.3)\n",
        "        request.form.data = \"\"\n",
        "        return html_style + posted(summarized_text) + bottom\n",
        "    return html_style + not_posted + bottom"
      ],
      "execution_count": 0,
      "outputs": []
    },
    {
      "cell_type": "markdown",
      "metadata": {
        "id": "pbNijH0GVj6V",
        "colab_type": "text"
      },
      "source": [
        "## Running the application\n",
        "\n",
        "Finally, once our app is ready and all the routes have been created, we can now run our application by calling the `run()` method on the app variable and we are ready to use this application..\n",
        "\n",
        "\n",
        "** *NOTE: Once we run the application, because we have used app with flask-ngrok, it is going to point us at two links. One which will always be http://localhost:5000/ and another which will be always different but will include the name ngrok in the URL so that you can get to know that this is a ngrok URL. With this URL, your application will be temporarily hosted on a ngrok platform and you can access it from there. This is useful when your are not running this notebook on your local system, otherwise, localhost URL will work just fine.* **"
      ]
    },
    {
      "cell_type": "code",
      "metadata": {
        "id": "qWLYGl0IVmEw",
        "colab_type": "code",
        "colab": {
          "base_uri": "https://localhost:8080/",
          "height": 185
        },
        "outputId": "475b395f-b4b8-4802-a9e1-ed972b0ec3ea"
      },
      "source": [
        "if __name__ == \"__main__\":\n",
        "    app.run()"
      ],
      "execution_count": 50,
      "outputs": [
        {
          "output_type": "stream",
          "text": [
            " * Serving Flask app \"__main__\" (lazy loading)\n",
            " * Environment: production\n",
            "\u001b[31m   WARNING: This is a development server. Do not use it in a production deployment.\u001b[0m\n",
            "\u001b[2m   Use a production WSGI server instead.\u001b[0m\n",
            " * Debug mode: off\n"
          ],
          "name": "stdout"
        },
        {
          "output_type": "stream",
          "text": [
            " * Running on http://127.0.0.1:5000/ (Press CTRL+C to quit)\n"
          ],
          "name": "stderr"
        },
        {
          "output_type": "stream",
          "text": [
            " * Running on http://1fcf3bc0.ngrok.io\n",
            " * Traffic stats available on http://127.0.0.1:4040\n"
          ],
          "name": "stdout"
        },
        {
          "output_type": "stream",
          "text": [
            "127.0.0.1 - - [28/Apr/2020 11:23:39] \"\u001b[37mGET / HTTP/1.1\u001b[0m\" 200 -\n",
            "127.0.0.1 - - [28/Apr/2020 11:23:40] \"\u001b[33mGET /favicon.ico HTTP/1.1\u001b[0m\" 404 -\n"
          ],
          "name": "stderr"
        }
      ]
    },
    {
      "cell_type": "code",
      "metadata": {
        "id": "dYEuvnF6dIPx",
        "colab_type": "code",
        "colab": {}
      },
      "source": [
        ""
      ],
      "execution_count": 0,
      "outputs": []
    }
  ]
}