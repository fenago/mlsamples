{
 "cells": [
  {
   "cell_type": "code",
   "execution_count": 1,
   "metadata": {},
   "outputs": [],
   "source": [
    "text = \"The Federal Reserve is wrong so often. I see the numbers also, and do MUCH better than they do. We will have a very good Third Quarter, a great Fourth Quarter, and one of our best ever years in 2021. We will also soon have a Vaccine & Therapeutics/Cure. That’s my opinion. WATCH!\""
   ]
  },
  {
   "cell_type": "code",
   "execution_count": 2,
   "metadata": {},
   "outputs": [],
   "source": [
    "text = text.lower()"
   ]
  },
  {
   "cell_type": "code",
   "execution_count": 3,
   "metadata": {},
   "outputs": [
    {
     "data": {
      "text/plain": [
       "'the federal reserve is wrong so often. i see the numbers also, and do much better than they do. we will have a very good third quarter, a great fourth quarter, and one of our best ever years in 2021. we will also soon have a vaccine & therapeutics/cure. that’s my opinion. watch!'"
      ]
     },
     "execution_count": 3,
     "metadata": {},
     "output_type": "execute_result"
    }
   ],
   "source": [
    "text"
   ]
  },
  {
   "cell_type": "code",
   "execution_count": 4,
   "metadata": {},
   "outputs": [],
   "source": [
    "import string"
   ]
  },
  {
   "cell_type": "code",
   "execution_count": 5,
   "metadata": {},
   "outputs": [
    {
     "data": {
      "text/plain": [
       "'!\"#$%&\\'()*+,-./:;<=>?@[\\\\]^_`{|}~'"
      ]
     },
     "execution_count": 5,
     "metadata": {},
     "output_type": "execute_result"
    }
   ],
   "source": [
    "string.punctuation"
   ]
  },
  {
   "cell_type": "code",
   "execution_count": 7,
   "metadata": {},
   "outputs": [],
   "source": [
    "lookup_table = str.maketrans(\"\", \"\", string.punctuation)"
   ]
  },
  {
   "cell_type": "code",
   "execution_count": 8,
   "metadata": {},
   "outputs": [],
   "source": [
    "new_text = text.translate(lookup_table)"
   ]
  },
  {
   "cell_type": "code",
   "execution_count": 9,
   "metadata": {},
   "outputs": [
    {
     "data": {
      "text/plain": [
       "'the federal reserve is wrong so often i see the numbers also and do much better than they do we will have a very good third quarter a great fourth quarter and one of our best ever years in 2021 we will also soon have a vaccine  therapeuticscure that’s my opinion watch'"
      ]
     },
     "execution_count": 9,
     "metadata": {},
     "output_type": "execute_result"
    }
   ],
   "source": [
    "new_text"
   ]
  },
  {
   "cell_type": "code",
   "execution_count": 10,
   "metadata": {},
   "outputs": [],
   "source": [
    "words = new_text.split(\" \")"
   ]
  },
  {
   "cell_type": "code",
   "execution_count": 11,
   "metadata": {},
   "outputs": [
    {
     "data": {
      "text/plain": [
       "['the',\n",
       " 'federal',\n",
       " 'reserve',\n",
       " 'is',\n",
       " 'wrong',\n",
       " 'so',\n",
       " 'often',\n",
       " 'i',\n",
       " 'see',\n",
       " 'the',\n",
       " 'numbers',\n",
       " 'also',\n",
       " 'and',\n",
       " 'do',\n",
       " 'much',\n",
       " 'better',\n",
       " 'than',\n",
       " 'they',\n",
       " 'do',\n",
       " 'we',\n",
       " 'will',\n",
       " 'have',\n",
       " 'a',\n",
       " 'very',\n",
       " 'good',\n",
       " 'third',\n",
       " 'quarter',\n",
       " 'a',\n",
       " 'great',\n",
       " 'fourth',\n",
       " 'quarter',\n",
       " 'and',\n",
       " 'one',\n",
       " 'of',\n",
       " 'our',\n",
       " 'best',\n",
       " 'ever',\n",
       " 'years',\n",
       " 'in',\n",
       " '2021',\n",
       " 'we',\n",
       " 'will',\n",
       " 'also',\n",
       " 'soon',\n",
       " 'have',\n",
       " 'a',\n",
       " 'vaccine',\n",
       " '',\n",
       " 'therapeuticscure',\n",
       " 'that’s',\n",
       " 'my',\n",
       " 'opinion',\n",
       " 'watch']"
      ]
     },
     "execution_count": 11,
     "metadata": {},
     "output_type": "execute_result"
    }
   ],
   "source": [
    "words"
   ]
  },
  {
   "cell_type": "code",
   "execution_count": 12,
   "metadata": {},
   "outputs": [],
   "source": [
    "stopwords = open(\"stop.txt\").read().split(\"\\n\")"
   ]
  },
  {
   "cell_type": "code",
   "execution_count": 15,
   "metadata": {},
   "outputs": [],
   "source": [
    "new_words = []\n",
    "for word in words:\n",
    "    if word not in stopwords:\n",
    "        new_words.append(word)"
   ]
  },
  {
   "cell_type": "code",
   "execution_count": 17,
   "metadata": {},
   "outputs": [],
   "source": [
    "positive_words = open(\"positive.txt\").read().split(\"\\n\")\n",
    "negative_words = open(\"negative.txt\").read().split(\"\\n\")"
   ]
  },
  {
   "cell_type": "code",
   "execution_count": 18,
   "metadata": {},
   "outputs": [
    {
     "data": {
      "text/plain": [
       "['abound', 'abounds', 'abundance', 'abundant', 'accessable']"
      ]
     },
     "execution_count": 18,
     "metadata": {},
     "output_type": "execute_result"
    }
   ],
   "source": [
    "positive_words[:5]"
   ]
  },
  {
   "cell_type": "code",
   "execution_count": 19,
   "metadata": {},
   "outputs": [
    {
     "data": {
      "text/plain": [
       "['abnormal', 'abolish', 'abominable', 'abominably', 'abominate']"
      ]
     },
     "execution_count": 19,
     "metadata": {},
     "output_type": "execute_result"
    }
   ],
   "source": [
    "negative_words[:5]"
   ]
  },
  {
   "cell_type": "code",
   "execution_count": 20,
   "metadata": {},
   "outputs": [
    {
     "data": {
      "text/plain": [
       "['federal',\n",
       " 'reserve',\n",
       " 'wrong',\n",
       " 'often',\n",
       " 'see',\n",
       " 'numbers',\n",
       " 'also',\n",
       " 'much',\n",
       " 'better',\n",
       " 'good']"
      ]
     },
     "execution_count": 20,
     "metadata": {},
     "output_type": "execute_result"
    }
   ],
   "source": [
    "new_words[:10]"
   ]
  },
  {
   "cell_type": "code",
   "execution_count": 21,
   "metadata": {},
   "outputs": [],
   "source": [
    "pos_score = 0\n",
    "neg_score = 0\n",
    "\n",
    "for word in new_words:\n",
    "    if word in positive_words:\n",
    "        pos_score += 1\n",
    "    if word in negative_words:\n",
    "        neg_score += 1"
   ]
  },
  {
   "cell_type": "code",
   "execution_count": 22,
   "metadata": {},
   "outputs": [
    {
     "data": {
      "text/plain": [
       "4"
      ]
     },
     "execution_count": 22,
     "metadata": {},
     "output_type": "execute_result"
    }
   ],
   "source": [
    "pos_score"
   ]
  },
  {
   "cell_type": "code",
   "execution_count": 23,
   "metadata": {},
   "outputs": [
    {
     "data": {
      "text/plain": [
       "1"
      ]
     },
     "execution_count": 23,
     "metadata": {},
     "output_type": "execute_result"
    }
   ],
   "source": [
    "neg_score"
   ]
  },
  {
   "cell_type": "code",
   "execution_count": 24,
   "metadata": {},
   "outputs": [
    {
     "name": "stdout",
     "output_type": "stream",
     "text": [
      "This sentence is Positive\n"
     ]
    }
   ],
   "source": [
    "if pos_score >= neg_score:\n",
    "    print(\"This sentence is Positive\")\n",
    "else:\n",
    "    print(\"This sentence is negative\")"
   ]
  },
  {
   "cell_type": "code",
   "execution_count": 25,
   "metadata": {},
   "outputs": [],
   "source": [
    "def get_sentiment(text):\n",
    "    text = text.lower()\n",
    "    lookup_table = str.maketrans(\"\", \"\", string.punctuation)\n",
    "    new_text = text.translate(lookup_table)\n",
    "    words = new_text.split(\" \")\n",
    "    \n",
    "    new_words = []\n",
    "    for word in words:\n",
    "        if word not in stopwords:\n",
    "            new_words.append(word)\n",
    "            \n",
    "    \n",
    "    pos_score = 0\n",
    "    neg_score = 0\n",
    "\n",
    "    for word in new_words:\n",
    "        if word in positive_words:\n",
    "            pos_score += 1\n",
    "        if word in negative_words:\n",
    "            neg_score += 1\n",
    "    if pos_score >= neg_score:\n",
    "        print(\"This sentence is Positive\")\n",
    "    else:\n",
    "        print(\"This sentence is negative\")"
   ]
  },
  {
   "cell_type": "code",
   "execution_count": 26,
   "metadata": {},
   "outputs": [],
   "source": [
    "text1 = \"The Federal Reserve is wrong so often. I see the numbers also, and do MUCH better than they do. We will have a very good Third Quarter, a great Fourth Quarter, and one of our best ever years in 2021. We will also soon have a Vaccine & Therapeutics/Cure. That’s my opinion. WATCH!\""
   ]
  },
  {
   "cell_type": "code",
   "execution_count": 27,
   "metadata": {},
   "outputs": [
    {
     "name": "stdout",
     "output_type": "stream",
     "text": [
      "This sentence is Positive\n"
     ]
    }
   ],
   "source": [
    "get_sentiment(text1)"
   ]
  },
  {
   "cell_type": "code",
   "execution_count": 28,
   "metadata": {},
   "outputs": [],
   "source": [
    "text2 = \"This is really horrible scene\""
   ]
  },
  {
   "cell_type": "code",
   "execution_count": 29,
   "metadata": {},
   "outputs": [
    {
     "name": "stdout",
     "output_type": "stream",
     "text": [
      "This sentence is negative\n"
     ]
    }
   ],
   "source": [
    "get_sentiment(text2)"
   ]
  },
  {
   "cell_type": "code",
   "execution_count": 30,
   "metadata": {},
   "outputs": [
    {
     "name": "stdout",
     "output_type": "stream",
     "text": [
      "\u001b[33mWARNING: The directory '/home/jovyan/.cache/pip/http' or its parent directory is not owned by the current user and the cache has been disabled. Please check the permissions and owner of that directory. If executing pip with sudo, you may want sudo's -H flag.\u001b[0m\n",
      "\u001b[33mWARNING: The directory '/home/jovyan/.cache/pip' or its parent directory is not owned by the current user and caching wheels has been disabled. check the permissions and owner of that directory. If executing pip with sudo, you may want sudo's -H flag.\u001b[0m\n",
      "Requirement already satisfied: textblob in /opt/conda/lib/python3.7/site-packages (0.15.3)\n",
      "Requirement already satisfied: nltk>=3.1 in /opt/conda/lib/python3.7/site-packages (from textblob) (3.4.5)\n",
      "Requirement already satisfied: six in /opt/conda/lib/python3.7/site-packages (from nltk>=3.1->textblob) (1.12.0)\n"
     ]
    }
   ],
   "source": [
    "!pip install textblob"
   ]
  },
  {
   "cell_type": "code",
   "execution_count": 31,
   "metadata": {},
   "outputs": [],
   "source": [
    "from textblob import TextBlob"
   ]
  },
  {
   "cell_type": "code",
   "execution_count": 32,
   "metadata": {},
   "outputs": [],
   "source": [
    "blob = TextBlob(text1)"
   ]
  },
  {
   "cell_type": "code",
   "execution_count": 33,
   "metadata": {},
   "outputs": [
    {
     "data": {
      "text/plain": [
       "0.3871428571428571"
      ]
     },
     "execution_count": 33,
     "metadata": {},
     "output_type": "execute_result"
    }
   ],
   "source": [
    "blob.sentiment.polarity"
   ]
  },
  {
   "cell_type": "code",
   "execution_count": 34,
   "metadata": {},
   "outputs": [],
   "source": [
    "blob2 = TextBlob(text2)"
   ]
  },
  {
   "cell_type": "code",
   "execution_count": 35,
   "metadata": {},
   "outputs": [
    {
     "data": {
      "text/plain": [
       "-1.0"
      ]
     },
     "execution_count": 35,
     "metadata": {},
     "output_type": "execute_result"
    }
   ],
   "source": [
    "blob2.sentiment.polarity"
   ]
  },
  {
   "cell_type": "code",
   "execution_count": null,
   "metadata": {},
   "outputs": [],
   "source": []
  }
 ],
 "metadata": {
  "kernelspec": {
   "display_name": "Python 3",
   "language": "python",
   "name": "python3"
  },
  "language_info": {
   "codemirror_mode": {
    "name": "ipython",
    "version": 3
   },
   "file_extension": ".py",
   "mimetype": "text/x-python",
   "name": "python",
   "nbconvert_exporter": "python",
   "pygments_lexer": "ipython3",
   "version": "3.7.3"
  }
 },
 "nbformat": 4,
 "nbformat_minor": 4
}
