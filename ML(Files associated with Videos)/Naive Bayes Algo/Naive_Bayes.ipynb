{
  "nbformat": 4,
  "nbformat_minor": 0,
  "metadata": {
    "colab": {
      "name": "Naive Bayes.ipynb",
      "provenance": [],
      "collapsed_sections": []
    },
    "kernelspec": {
      "name": "python3",
      "display_name": "Python 3"
    }
  },
  "cells": [
    {
      "cell_type": "code",
      "metadata": {
        "id": "TzKziUjqf3dn",
        "colab_type": "code",
        "colab": {}
      },
      "source": [
        "import numpy as np"
      ],
      "execution_count": 0,
      "outputs": []
    },
    {
      "cell_type": "code",
      "metadata": {
        "id": "8-_BvwyDemNQ",
        "colab_type": "code",
        "outputId": "9ca7722c-2d4b-4327-81c6-7d724987a40e",
        "colab": {
          "base_uri": "https://localhost:8080/",
          "height": 288
        }
      },
      "source": [
        "import pandas as pd\n",
        "data = pd.read_csv(\"person.csv\")\n",
        "data"
      ],
      "execution_count": 6,
      "outputs": [
        {
          "output_type": "execute_result",
          "data": {
            "text/html": [
              "<div>\n",
              "<style scoped>\n",
              "    .dataframe tbody tr th:only-of-type {\n",
              "        vertical-align: middle;\n",
              "    }\n",
              "\n",
              "    .dataframe tbody tr th {\n",
              "        vertical-align: top;\n",
              "    }\n",
              "\n",
              "    .dataframe thead th {\n",
              "        text-align: right;\n",
              "    }\n",
              "</style>\n",
              "<table border=\"1\" class=\"dataframe\">\n",
              "  <thead>\n",
              "    <tr style=\"text-align: right;\">\n",
              "      <th></th>\n",
              "      <th>person</th>\n",
              "      <th>height</th>\n",
              "      <th>weight</th>\n",
              "      <th>footSize</th>\n",
              "    </tr>\n",
              "  </thead>\n",
              "  <tbody>\n",
              "    <tr>\n",
              "      <th>0</th>\n",
              "      <td>male</td>\n",
              "      <td>6.00</td>\n",
              "      <td>180</td>\n",
              "      <td>12</td>\n",
              "    </tr>\n",
              "    <tr>\n",
              "      <th>1</th>\n",
              "      <td>male</td>\n",
              "      <td>5.92</td>\n",
              "      <td>190</td>\n",
              "      <td>11</td>\n",
              "    </tr>\n",
              "    <tr>\n",
              "      <th>2</th>\n",
              "      <td>male</td>\n",
              "      <td>5.58</td>\n",
              "      <td>170</td>\n",
              "      <td>12</td>\n",
              "    </tr>\n",
              "    <tr>\n",
              "      <th>3</th>\n",
              "      <td>male</td>\n",
              "      <td>5.92</td>\n",
              "      <td>165</td>\n",
              "      <td>10</td>\n",
              "    </tr>\n",
              "    <tr>\n",
              "      <th>4</th>\n",
              "      <td>female</td>\n",
              "      <td>5.00</td>\n",
              "      <td>100</td>\n",
              "      <td>6</td>\n",
              "    </tr>\n",
              "    <tr>\n",
              "      <th>5</th>\n",
              "      <td>female</td>\n",
              "      <td>5.50</td>\n",
              "      <td>150</td>\n",
              "      <td>8</td>\n",
              "    </tr>\n",
              "    <tr>\n",
              "      <th>6</th>\n",
              "      <td>female</td>\n",
              "      <td>5.42</td>\n",
              "      <td>130</td>\n",
              "      <td>7</td>\n",
              "    </tr>\n",
              "    <tr>\n",
              "      <th>7</th>\n",
              "      <td>female</td>\n",
              "      <td>5.75</td>\n",
              "      <td>150</td>\n",
              "      <td>9</td>\n",
              "    </tr>\n",
              "  </tbody>\n",
              "</table>\n",
              "</div>"
            ],
            "text/plain": [
              "   person  height  weight  footSize\n",
              "0    male    6.00     180        12\n",
              "1    male    5.92     190        11\n",
              "2    male    5.58     170        12\n",
              "3    male    5.92     165        10\n",
              "4  female    5.00     100         6\n",
              "5  female    5.50     150         8\n",
              "6  female    5.42     130         7\n",
              "7  female    5.75     150         9"
            ]
          },
          "metadata": {
            "tags": []
          },
          "execution_count": 6
        }
      ]
    },
    {
      "cell_type": "code",
      "metadata": {
        "id": "Cs3Mtbu5e2sa",
        "colab_type": "code",
        "colab": {}
      },
      "source": [
        "male_data = data[data.person == \"male\"]\n",
        "female_data = data[data.person == \"female\"]"
      ],
      "execution_count": 0,
      "outputs": []
    },
    {
      "cell_type": "code",
      "metadata": {
        "id": "WYPHDTW0fFvj",
        "colab_type": "code",
        "outputId": "423fcbc2-2d90-4fa3-a016-39d92ab6f342",
        "colab": {
          "base_uri": "https://localhost:8080/",
          "height": 168
        }
      },
      "source": [
        "male_data"
      ],
      "execution_count": 8,
      "outputs": [
        {
          "output_type": "execute_result",
          "data": {
            "text/html": [
              "<div>\n",
              "<style scoped>\n",
              "    .dataframe tbody tr th:only-of-type {\n",
              "        vertical-align: middle;\n",
              "    }\n",
              "\n",
              "    .dataframe tbody tr th {\n",
              "        vertical-align: top;\n",
              "    }\n",
              "\n",
              "    .dataframe thead th {\n",
              "        text-align: right;\n",
              "    }\n",
              "</style>\n",
              "<table border=\"1\" class=\"dataframe\">\n",
              "  <thead>\n",
              "    <tr style=\"text-align: right;\">\n",
              "      <th></th>\n",
              "      <th>person</th>\n",
              "      <th>height</th>\n",
              "      <th>weight</th>\n",
              "      <th>footSize</th>\n",
              "    </tr>\n",
              "  </thead>\n",
              "  <tbody>\n",
              "    <tr>\n",
              "      <th>0</th>\n",
              "      <td>male</td>\n",
              "      <td>6.00</td>\n",
              "      <td>180</td>\n",
              "      <td>12</td>\n",
              "    </tr>\n",
              "    <tr>\n",
              "      <th>1</th>\n",
              "      <td>male</td>\n",
              "      <td>5.92</td>\n",
              "      <td>190</td>\n",
              "      <td>11</td>\n",
              "    </tr>\n",
              "    <tr>\n",
              "      <th>2</th>\n",
              "      <td>male</td>\n",
              "      <td>5.58</td>\n",
              "      <td>170</td>\n",
              "      <td>12</td>\n",
              "    </tr>\n",
              "    <tr>\n",
              "      <th>3</th>\n",
              "      <td>male</td>\n",
              "      <td>5.92</td>\n",
              "      <td>165</td>\n",
              "      <td>10</td>\n",
              "    </tr>\n",
              "  </tbody>\n",
              "</table>\n",
              "</div>"
            ],
            "text/plain": [
              "  person  height  weight  footSize\n",
              "0   male    6.00     180        12\n",
              "1   male    5.92     190        11\n",
              "2   male    5.58     170        12\n",
              "3   male    5.92     165        10"
            ]
          },
          "metadata": {
            "tags": []
          },
          "execution_count": 8
        }
      ]
    },
    {
      "cell_type": "code",
      "metadata": {
        "id": "PssmdOn7fHj-",
        "colab_type": "code",
        "outputId": "d0eb17ec-abf5-407e-9bf2-03c8ab19611e",
        "colab": {
          "base_uri": "https://localhost:8080/",
          "height": 168
        }
      },
      "source": [
        "female_data"
      ],
      "execution_count": 9,
      "outputs": [
        {
          "output_type": "execute_result",
          "data": {
            "text/html": [
              "<div>\n",
              "<style scoped>\n",
              "    .dataframe tbody tr th:only-of-type {\n",
              "        vertical-align: middle;\n",
              "    }\n",
              "\n",
              "    .dataframe tbody tr th {\n",
              "        vertical-align: top;\n",
              "    }\n",
              "\n",
              "    .dataframe thead th {\n",
              "        text-align: right;\n",
              "    }\n",
              "</style>\n",
              "<table border=\"1\" class=\"dataframe\">\n",
              "  <thead>\n",
              "    <tr style=\"text-align: right;\">\n",
              "      <th></th>\n",
              "      <th>person</th>\n",
              "      <th>height</th>\n",
              "      <th>weight</th>\n",
              "      <th>footSize</th>\n",
              "    </tr>\n",
              "  </thead>\n",
              "  <tbody>\n",
              "    <tr>\n",
              "      <th>4</th>\n",
              "      <td>female</td>\n",
              "      <td>5.00</td>\n",
              "      <td>100</td>\n",
              "      <td>6</td>\n",
              "    </tr>\n",
              "    <tr>\n",
              "      <th>5</th>\n",
              "      <td>female</td>\n",
              "      <td>5.50</td>\n",
              "      <td>150</td>\n",
              "      <td>8</td>\n",
              "    </tr>\n",
              "    <tr>\n",
              "      <th>6</th>\n",
              "      <td>female</td>\n",
              "      <td>5.42</td>\n",
              "      <td>130</td>\n",
              "      <td>7</td>\n",
              "    </tr>\n",
              "    <tr>\n",
              "      <th>7</th>\n",
              "      <td>female</td>\n",
              "      <td>5.75</td>\n",
              "      <td>150</td>\n",
              "      <td>9</td>\n",
              "    </tr>\n",
              "  </tbody>\n",
              "</table>\n",
              "</div>"
            ],
            "text/plain": [
              "   person  height  weight  footSize\n",
              "4  female    5.00     100         6\n",
              "5  female    5.50     150         8\n",
              "6  female    5.42     130         7\n",
              "7  female    5.75     150         9"
            ]
          },
          "metadata": {
            "tags": []
          },
          "execution_count": 9
        }
      ]
    },
    {
      "cell_type": "code",
      "metadata": {
        "id": "lchKVlG0gmog",
        "colab_type": "code",
        "colab": {}
      },
      "source": [
        "female_data_height = [np.mean(female_data.height),np.var(female_data.height, ddof=1)]\n",
        "female_data_weight = [np.mean(female_data.weight),np.var(female_data.weight, ddof=1)]\n",
        "female_data_footSize = [np.mean(female_data.footSize),np.var(female_data.footSize, ddof=1)]\n",
        "\n",
        "\n",
        "male_data_height = [np.mean(male_data.height),np.var(male_data.height, ddof=1)]\n",
        "male_data_weight = [np.mean(male_data.weight),np.var(male_data.weight, ddof=1)]\n",
        "male_data_footSize = [np.mean(male_data.footSize),np.var(male_data.footSize, ddof=1)]"
      ],
      "execution_count": 0,
      "outputs": []
    },
    {
      "cell_type": "code",
      "metadata": {
        "id": "ObOqJ-mSgG-8",
        "colab_type": "code",
        "colab": {}
      },
      "source": [
        "parameters = {\"male\":{\"height\":[male_data_height[0],male_data_height[1]], \n",
        "                      \"weight\":[male_data_weight[0],male_data_weight[1]], \n",
        "                      \"footSize\":[male_data_footSize[0], male_data_footSize[1]]}, \n",
        "              \"female\":{\"height\":[female_data_height[0],female_data_height[1]], \n",
        "                        \"weight\":[female_data_weight[0],female_data_weight[1]], \n",
        "                        \"footSize\":[female_data_footSize[0],female_data_footSize[1]]}}"
      ],
      "execution_count": 0,
      "outputs": []
    },
    {
      "cell_type": "code",
      "metadata": {
        "id": "fZjRydvufITG",
        "colab_type": "code",
        "colab": {}
      },
      "source": [
        "def calculate_normal_probability(point, mean, variance):\n",
        "  return 1/np.sqrt(2* np.pi*variance) * np.exp(-1 * (point - mean)**2 / (2*variance))"
      ],
      "execution_count": 0,
      "outputs": []
    },
    {
      "cell_type": "code",
      "metadata": {
        "id": "G3MV_9Ylf1R8",
        "colab_type": "code",
        "colab": {}
      },
      "source": [
        "def posterior_male(height, weight, footSize):\n",
        "  prob_male = 0.5\n",
        "  prob_height_given_male = calculate_normal_probability(height, parameters[\"male\"][\"height\"][0],\n",
        "                                                        parameters[\"male\"][\"height\"][1])\n",
        "  prob_weight_given_male = calculate_normal_probability(weight, parameters[\"male\"][\"weight\"][0],\n",
        "                                                        parameters[\"male\"][\"height\"][1])\n",
        "  prob_footSize_given_male = calculate_normal_probability(footSize, parameters[\"male\"][\"footSize\"][0],\n",
        "                                                        parameters[\"male\"][\"height\"][1])\n",
        "  return prob_male * prob_height_given_male * prob_weight_given_male * prob_footSize_given_male"
      ],
      "execution_count": 0,
      "outputs": []
    },
    {
      "cell_type": "code",
      "metadata": {
        "id": "KXYI2cbeinco",
        "colab_type": "code",
        "colab": {}
      },
      "source": [
        "def posterior_female(height, weight, footSize):\n",
        "  prob_female = 0.5\n",
        "  prob_height_given_female = calculate_normal_probability(height, parameters[\"female\"][\"height\"][0],\n",
        "                                                        parameters[\"female\"][\"height\"][1])\n",
        "  prob_weight_given_female = calculate_normal_probability(weight, parameters[\"female\"][\"weight\"][0],\n",
        "                                                        parameters[\"female\"][\"height\"][1])\n",
        "  prob_footSize_given_female = calculate_normal_probability(footSize, parameters[\"female\"][\"footSize\"][0],\n",
        "                                                        parameters[\"female\"][\"height\"][1])\n",
        "  return prob_female * prob_height_given_female * prob_weight_given_female * prob_footSize_given_female"
      ],
      "execution_count": 0,
      "outputs": []
    },
    {
      "cell_type": "code",
      "metadata": {
        "id": "37WIeLQIi4D0",
        "colab_type": "code",
        "colab": {}
      },
      "source": [
        "new_sample = {\"height\":5.6, \"weight\":150, \"footSize\":8}\n",
        "new_sample_posterior_male = posterior_male(new_sample[\"height\"],\n",
        "                                           new_sample[\"weight\"],\n",
        "                                           new_sample[\"footSize\"])\n",
        "new_sample_posterior_female = posterior_female(new_sample[\"height\"],\n",
        "                                           new_sample[\"weight\"],\n",
        "                                           new_sample[\"footSize\"])\n"
      ],
      "execution_count": 0,
      "outputs": []
    },
    {
      "cell_type": "code",
      "metadata": {
        "id": "NXH1-YbxlFbu",
        "colab_type": "code",
        "outputId": "3539cef5-f260-4026-9ef1-2e97fb3342e3",
        "colab": {
          "base_uri": "https://localhost:8080/",
          "height": 34
        }
      },
      "source": [
        "labels = [\"male\", \"female\"]\n",
        "values = [new_sample_posterior_male, new_sample_posterior_female]\n",
        "print(\"The new sample has the label: ..\", labels[np.argmax(values)])"
      ],
      "execution_count": 16,
      "outputs": [
        {
          "output_type": "stream",
          "text": [
            "The new sample has the label: .. male\n"
          ],
          "name": "stdout"
        }
      ]
    },
    {
      "cell_type": "code",
      "metadata": {
        "id": "5Te87xbJUSGK",
        "colab_type": "code",
        "colab": {}
      },
      "source": [
        "label_mapper = {\"male\":0, \"female\":1}\n",
        "data[\"label\"] = data.person.map(label_mapper)"
      ],
      "execution_count": 0,
      "outputs": []
    },
    {
      "cell_type": "code",
      "metadata": {
        "id": "NgiVV11dUHWy",
        "colab_type": "code",
        "colab": {}
      },
      "source": [
        "X = data[[\"height\", \"weight\", \"footSize\"]]\n",
        "y = data[\"label\"]"
      ],
      "execution_count": 0,
      "outputs": []
    },
    {
      "cell_type": "code",
      "metadata": {
        "id": "C9v837GKmI8z",
        "colab_type": "code",
        "colab": {}
      },
      "source": [
        "from sklearn.naive_bayes import GaussianNB\n",
        "from sklearn.naive_bayes import MultinomialNB"
      ],
      "execution_count": 0,
      "outputs": []
    },
    {
      "cell_type": "code",
      "metadata": {
        "id": "663atk0kUCwh",
        "colab_type": "code",
        "colab": {
          "base_uri": "https://localhost:8080/",
          "height": 34
        },
        "outputId": "85497a0e-8494-4739-ea10-9e4817122bb0"
      },
      "source": [
        "gnb = GaussianNB()\n",
        "gnb.fit(X,y)"
      ],
      "execution_count": 20,
      "outputs": [
        {
          "output_type": "execute_result",
          "data": {
            "text/plain": [
              "GaussianNB(priors=None, var_smoothing=1e-09)"
            ]
          },
          "metadata": {
            "tags": []
          },
          "execution_count": 20
        }
      ]
    },
    {
      "cell_type": "code",
      "metadata": {
        "id": "yXeZHILNUwUf",
        "colab_type": "code",
        "colab": {
          "base_uri": "https://localhost:8080/",
          "height": 34
        },
        "outputId": "98a1e8c1-b9ae-4e82-e761-97b565bd4383"
      },
      "source": [
        "gnb.predict(X)"
      ],
      "execution_count": 21,
      "outputs": [
        {
          "output_type": "execute_result",
          "data": {
            "text/plain": [
              "array([0, 0, 0, 0, 1, 1, 1, 1])"
            ]
          },
          "metadata": {
            "tags": []
          },
          "execution_count": 21
        }
      ]
    },
    {
      "cell_type": "code",
      "metadata": {
        "id": "UNUEOaVmUy8I",
        "colab_type": "code",
        "colab": {}
      },
      "source": [
        ""
      ],
      "execution_count": 0,
      "outputs": []
    }
  ]
}