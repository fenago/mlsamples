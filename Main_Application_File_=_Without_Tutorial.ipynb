{
  "nbformat": 4,
  "nbformat_minor": 0,
  "metadata": {
    "colab": {
      "name": "Main Application File = Without Tutorial",
      "provenance": [],
      "collapsed_sections": []
    },
    "kernelspec": {
      "name": "python3",
      "display_name": "Python 3"
    }
  },
  "cells": [
    {
      "cell_type": "markdown",
      "metadata": {
        "id": "n4pV82jCeBkW",
        "colab_type": "text"
      },
      "source": [
        "# Installing Modules\n",
        "\n",
        "Please run the code below to install all the necessary modules that will be used in this application notebook."
      ]
    },
    {
      "cell_type": "code",
      "metadata": {
        "id": "ur6HuBLcz6zd",
        "colab_type": "code",
        "outputId": "341b64a1-87d6-449a-a793-d3fb7009794d",
        "colab": {
          "base_uri": "https://localhost:8080/",
          "height": 487
        }
      },
      "source": [
        "!pip install pandas\n",
        "!pip install flask\n",
        "!pip install flask-ngrok\n",
        "!pip install nltk"
      ],
      "execution_count": 1,
      "outputs": [
        {
          "output_type": "stream",
          "text": [
            "Requirement already satisfied: pandas in /usr/local/lib/python3.6/dist-packages (1.0.3)\n",
            "Requirement already satisfied: pytz>=2017.2 in /usr/local/lib/python3.6/dist-packages (from pandas) (2018.9)\n",
            "Requirement already satisfied: numpy>=1.13.3 in /usr/local/lib/python3.6/dist-packages (from pandas) (1.18.3)\n",
            "Requirement already satisfied: python-dateutil>=2.6.1 in /usr/local/lib/python3.6/dist-packages (from pandas) (2.8.1)\n",
            "Requirement already satisfied: six>=1.5 in /usr/local/lib/python3.6/dist-packages (from python-dateutil>=2.6.1->pandas) (1.12.0)\n",
            "Requirement already satisfied: flask in /usr/local/lib/python3.6/dist-packages (1.1.2)\n",
            "Requirement already satisfied: itsdangerous>=0.24 in /usr/local/lib/python3.6/dist-packages (from flask) (1.1.0)\n",
            "Requirement already satisfied: click>=5.1 in /usr/local/lib/python3.6/dist-packages (from flask) (7.1.1)\n",
            "Requirement already satisfied: Jinja2>=2.10.1 in /usr/local/lib/python3.6/dist-packages (from flask) (2.11.2)\n",
            "Requirement already satisfied: Werkzeug>=0.15 in /usr/local/lib/python3.6/dist-packages (from flask) (1.0.1)\n",
            "Requirement already satisfied: MarkupSafe>=0.23 in /usr/local/lib/python3.6/dist-packages (from Jinja2>=2.10.1->flask) (1.1.1)\n",
            "Collecting flask-ngrok\n",
            "  Downloading https://files.pythonhosted.org/packages/af/6c/f54cb686ad1129e27d125d182f90f52b32f284e6c8df58c1bae54fa1adbc/flask_ngrok-0.0.25-py3-none-any.whl\n",
            "Requirement already satisfied: Flask>=0.8 in /usr/local/lib/python3.6/dist-packages (from flask-ngrok) (1.1.2)\n",
            "Requirement already satisfied: requests in /usr/local/lib/python3.6/dist-packages (from flask-ngrok) (2.21.0)\n",
            "Requirement already satisfied: Jinja2>=2.10.1 in /usr/local/lib/python3.6/dist-packages (from Flask>=0.8->flask-ngrok) (2.11.2)\n",
            "Requirement already satisfied: Werkzeug>=0.15 in /usr/local/lib/python3.6/dist-packages (from Flask>=0.8->flask-ngrok) (1.0.1)\n",
            "Requirement already satisfied: click>=5.1 in /usr/local/lib/python3.6/dist-packages (from Flask>=0.8->flask-ngrok) (7.1.1)\n",
            "Requirement already satisfied: itsdangerous>=0.24 in /usr/local/lib/python3.6/dist-packages (from Flask>=0.8->flask-ngrok) (1.1.0)\n",
            "Requirement already satisfied: idna<2.9,>=2.5 in /usr/local/lib/python3.6/dist-packages (from requests->flask-ngrok) (2.8)\n",
            "Requirement already satisfied: urllib3<1.25,>=1.21.1 in /usr/local/lib/python3.6/dist-packages (from requests->flask-ngrok) (1.24.3)\n",
            "Requirement already satisfied: chardet<3.1.0,>=3.0.2 in /usr/local/lib/python3.6/dist-packages (from requests->flask-ngrok) (3.0.4)\n",
            "Requirement already satisfied: certifi>=2017.4.17 in /usr/local/lib/python3.6/dist-packages (from requests->flask-ngrok) (2020.4.5.1)\n",
            "Requirement already satisfied: MarkupSafe>=0.23 in /usr/local/lib/python3.6/dist-packages (from Jinja2>=2.10.1->Flask>=0.8->flask-ngrok) (1.1.1)\n",
            "Installing collected packages: flask-ngrok\n",
            "Successfully installed flask-ngrok-0.0.25\n",
            "Requirement already satisfied: nltk in /usr/local/lib/python3.6/dist-packages (3.2.5)\n",
            "Requirement already satisfied: six in /usr/local/lib/python3.6/dist-packages (from nltk) (1.12.0)\n"
          ],
          "name": "stdout"
        }
      ]
    },
    {
      "cell_type": "code",
      "metadata": {
        "id": "RqCeIyfdzYWx",
        "colab_type": "code",
        "colab": {}
      },
      "source": [
        "from flask import Flask,request\n",
        "from flask_ngrok import run_with_ngrok\n",
        "import nltk\n",
        "import pandas as pd\n",
        "import re"
      ],
      "execution_count": 0,
      "outputs": []
    },
    {
      "cell_type": "code",
      "metadata": {
        "id": "LFu1SmjxyTi1",
        "colab_type": "code",
        "outputId": "54d4c812-2eaa-49b3-9418-4b48f6b933ec",
        "colab": {
          "base_uri": "https://localhost:8080/",
          "height": 101
        }
      },
      "source": [
        "nltk.download(\"stopwords\")\n",
        "nltk.download(\"punkt\")"
      ],
      "execution_count": 3,
      "outputs": [
        {
          "output_type": "stream",
          "text": [
            "[nltk_data] Downloading package stopwords to /root/nltk_data...\n",
            "[nltk_data]   Unzipping corpora/stopwords.zip.\n",
            "[nltk_data] Downloading package punkt to /root/nltk_data...\n",
            "[nltk_data]   Unzipping tokenizers/punkt.zip.\n"
          ],
          "name": "stdout"
        },
        {
          "output_type": "execute_result",
          "data": {
            "text/plain": [
              "True"
            ]
          },
          "metadata": {
            "tags": []
          },
          "execution_count": 3
        }
      ]
    },
    {
      "cell_type": "code",
      "metadata": {
        "id": "cqOouDaG4g8r",
        "colab_type": "code",
        "colab": {}
      },
      "source": [
        "def get_weighted_dictionary(words, stopwords):\n",
        "  words_freq = {}\n",
        "  for word in words:\n",
        "    if word not in stopwords:\n",
        "      if word not in words_freq:\n",
        "        words_freq[word] = 1\n",
        "      else:\n",
        "        words_freq[word] += 1\n",
        "  max_freq = max(words_freq.values())\n",
        "  for key in words_freq.keys():\n",
        "    words_freq[key] /= max_freq\n",
        "  return words_freq"
      ],
      "execution_count": 0,
      "outputs": []
    },
    {
      "cell_type": "code",
      "metadata": {
        "id": "-78XjSp48-_F",
        "colab_type": "code",
        "outputId": "e27944b0-f597-4052-d197-3039d84d39c2",
        "colab": {
          "base_uri": "https://localhost:8080/",
          "height": 34
        }
      },
      "source": [
        "stopwords = nltk.corpus.stopwords.words(\"english\")\n",
        "word1 = [\"Hello\", \"Yes\", \"Bye\", \"Hello\", \"Bye\", \"Rahul\", \"Bye\", \"Bye\", \"Jai\"]\n",
        "dict1 = get_weighted_dictionary(word1, stopwords)\n",
        "dict1"
      ],
      "execution_count": 5,
      "outputs": [
        {
          "output_type": "execute_result",
          "data": {
            "text/plain": [
              "{'Bye': 1.0, 'Hello': 0.5, 'Jai': 0.25, 'Rahul': 0.25, 'Yes': 0.25}"
            ]
          },
          "metadata": {
            "tags": []
          },
          "execution_count": 5
        }
      ]
    },
    {
      "cell_type": "code",
      "metadata": {
        "id": "p0KIr6zw4-5U",
        "colab_type": "code",
        "colab": {}
      },
      "source": [
        "def get_sentence_score(sentences, word_freq, stopwords):\n",
        "  sentences_score = []\n",
        "  for sent in sentences:\n",
        "    current_words = nltk.word_tokenize(sent)\n",
        "    current_score = 0\n",
        "    for word in current_words:\n",
        "      if word not in stopwords:\n",
        "        current_score += word_freq[word]\n",
        "    sentences_score.append(current_score)\n",
        "  return sentences_score"
      ],
      "execution_count": 0,
      "outputs": []
    },
    {
      "cell_type": "code",
      "metadata": {
        "id": "ighFX-ZbNwdq",
        "colab_type": "code",
        "outputId": "de3533e0-423c-463e-eb20-03d7e80aac3d",
        "colab": {
          "base_uri": "https://localhost:8080/",
          "height": 34
        }
      },
      "source": [
        "sent = [\"Hello Rahul\", \"Yes\", \"Hello and Bye Rahul\"]\n",
        "get_sentence_score(sent, dict1, stopwords)"
      ],
      "execution_count": 7,
      "outputs": [
        {
          "output_type": "execute_result",
          "data": {
            "text/plain": [
              "[0.75, 0.25, 1.75]"
            ]
          },
          "metadata": {
            "tags": []
          },
          "execution_count": 7
        }
      ]
    },
    {
      "cell_type": "code",
      "metadata": {
        "id": "kgEEVvQVyi9w",
        "colab_type": "code",
        "colab": {}
      },
      "source": [
        "def get_summary(text, percentage = 0.3):\n",
        "  sentences = nltk.sent_tokenize(text)\n",
        "  stopwords = nltk.corpus.stopwords.words(\"english\")\n",
        "  words = nltk.word_tokenize(text)\n",
        "  word_freq = get_weighted_dictionary(words, stopwords)\n",
        "  sentences_score = get_sentence_score(sentences, word_freq, stopwords)\n",
        "  data = pd.DataFrame({\"sentence\":sentences, \"score\":sentences_score})\n",
        "  n = data.shape[0]\n",
        "  top = data.sort_values(by = \"score\", ascending=False).iloc[0:int(n*percentage),0]\n",
        "  return \" \".join(top)"
      ],
      "execution_count": 0,
      "outputs": []
    },
    {
      "cell_type": "code",
      "metadata": {
        "id": "tB1ETyokRgNa",
        "colab_type": "code",
        "outputId": "799c5167-09d1-457b-8eca-6547003e074d",
        "colab": {
          "base_uri": "https://localhost:8080/",
          "height": 34
        }
      },
      "source": [
        "get_summary(\"Machine Learning is really cool. Machine Learning finds it application in statistical and data mining application. Machine Learning takes data and returns a prediction on that data. There are many cool applications of machine learning. Machine Learning has enabled data scientists to find hidden patterns in data.\")"
      ],
      "execution_count": 9,
      "outputs": [
        {
          "output_type": "execute_result",
          "data": {
            "text/plain": [
              "'Machine Learning has enabled data scientists to find hidden patterns in data.'"
            ]
          },
          "metadata": {
            "tags": []
          },
          "execution_count": 9
        }
      ]
    },
    {
      "cell_type": "code",
      "metadata": {
        "id": "IIAg40CWUhcH",
        "colab_type": "code",
        "colab": {}
      },
      "source": [
        "app = Flask(__name__)\n",
        "run_with_ngrok(app)"
      ],
      "execution_count": 0,
      "outputs": []
    },
    {
      "cell_type": "code",
      "metadata": {
        "id": "xkpT89oAVWNM",
        "colab_type": "code",
        "colab": {}
      },
      "source": [
        "html_style = '''<!DOCTYPE html>\n",
        "<html lang=\"en\">\n",
        "<head>\n",
        "    <meta charset=\"UTF-8\">\n",
        "    <meta name=\"viewport\" content=\"width=device-width, initial-scale=1.0\">\n",
        "    <title>Text Summarizer</title>\n",
        "    <style>\n",
        "        *,html,body{\n",
        "            margin:0px;\n",
        "            padding: 0px;\n",
        "        }\n",
        "        #header{\n",
        "            background: url(https://dtsvkkjw40x57.cloudfront.net/1350xnull/8160/uploads/2ab85f0f-bc62-417f-8a33-a064535a6ebd.jpg);\n",
        "            opacity: 0.9;\n",
        "            height: 300px;\n",
        "            width: 100%;\n",
        "            margin: 0px 0px 10px 0px;\n",
        "            display: flex;\n",
        "            flex-direction: column;\n",
        "            justify-content: center;\n",
        "            align-items: center;\n",
        "        }\n",
        "\n",
        "        #header h1 {\n",
        "            border: 0px solid #F49200;\n",
        "            background-color: #F49200;\n",
        "            border-radius: 5px;\n",
        "        }\n",
        "        #form-input,#output\n",
        "        {\n",
        "            display: flex;\n",
        "            flex-direction: column;\n",
        "            justify-content: center;\n",
        "            align-items: center;\n",
        "        }\n",
        "        #output{\n",
        "          display: flex;\n",
        "            flex-direction: column;\n",
        "            justify-content: center;\n",
        "            align-items: center;\n",
        "            width:600px;\n",
        "            margin:auto;\n",
        "        }\n",
        "        textarea{\n",
        "            width: 500px;\n",
        "            height: 100px;\n",
        "            border: 1px solid orange;\n",
        "            resize: none;\n",
        "        }\n",
        "        input{\n",
        "            background-color: orange;\n",
        "            color: white;\n",
        "            border:none;\n",
        "            outline: none;\n",
        "            border-radius: 5px;\n",
        "            width:70px;\n",
        "            height: 30px;\n",
        "        }\n",
        "        form,#output{\n",
        "            margin-top: 10px;\n",
        "        }\n",
        "        #output p{\n",
        "            border: 1px solid orange;\n",
        "            border-radius: 5px;\n",
        "            padding: 2px 2px 0px 2px;\n",
        "        }\n",
        "\n",
        "        a{\n",
        "            margin-top: 10px;\n",
        "        }\n",
        "        #desc{\n",
        "            display: flex;\n",
        "            flex-direction: column;\n",
        "            justify-content: center;\n",
        "            align-items: center;\n",
        "            margin-top: 30px;\n",
        "        }\n",
        "        ul{\n",
        "            margin-top: 10px;\n",
        "        }\n",
        "    </style>\n",
        "</head>\n",
        "<body>\n",
        "    <div id=\"header\">\n",
        "        <h1 style=\"color: white;\">Welcome to Text Summarization Application</h1>\n",
        "    </div>\n",
        "'''"
      ],
      "execution_count": 0,
      "outputs": []
    },
    {
      "cell_type": "code",
      "metadata": {
        "id": "vLMeQR9oy7oQ",
        "colab_type": "code",
        "colab": {}
      },
      "source": [
        "not_posted = '''\n",
        "<div id=\"form-input\">\n",
        "        <h3>Please Enter Your Text Here....</h3>\n",
        "        <form method=\"POST\">\n",
        "            <textarea id = \"text\" name=\"text\" placeholder=\"Enter your text here...\"></textarea>\n",
        "            <input type=\"submit\" id=\"submit\">\n",
        "        </form>\n",
        "    </div>'''"
      ],
      "execution_count": 0,
      "outputs": []
    },
    {
      "cell_type": "code",
      "metadata": {
        "id": "ZvzcOMIpVbcV",
        "colab_type": "code",
        "colab": {}
      },
      "source": [
        "posted = lambda x : '''\n",
        "<div id=\"output\">\n",
        "        <h3>Here is the summarized version of the text you provided....</h3>\n",
        "        <p>''' + x + '''</p>\n",
        "        <a href=\"/\">Go Back</a>\n",
        "    </div>\n",
        "'''"
      ],
      "execution_count": 0,
      "outputs": []
    },
    {
      "cell_type": "code",
      "metadata": {
        "id": "PdnM7wQHVeUS",
        "colab_type": "code",
        "colab": {}
      },
      "source": [
        "bottom = '''\n",
        "<div id = \"desc\">\n",
        "        <h2>Here is a Little description on how the algorithm works...</h2>\n",
        "        <ul>\n",
        "            <li>This uses one of the most powerful algorithms in Natural Language Processing for Summarization Called TextRank.</li>\n",
        "            <li>It is the same algorithm which was used by Google to rank the search results to show you the best results.</li>\n",
        "            <li>You enter the text in the Input and the text data is sent to the server.</li>\n",
        "            <li>One the server receives the text, we have a function which will receive the entered text and it is going to apply Text Rank algorithm.</li>\n",
        "            <li>Then, that function is going to produce a summarized version of the entered text.</li>\n",
        "        </ul>\n",
        "    </div>\n",
        "</body>\n",
        "</html>\n",
        "'''"
      ],
      "execution_count": 0,
      "outputs": []
    },
    {
      "cell_type": "code",
      "metadata": {
        "id": "_3vnOM-zyj_W",
        "colab_type": "code",
        "colab": {}
      },
      "source": [
        "@app.route(\"/\", methods = [\"GET\", \"POST\"])\n",
        "def index():\n",
        "    if request.method == \"POST\":\n",
        "        required_text = request.form.get(\"text\")\n",
        "        summarized_text = get_summary(required_text, percentage = 0.3)\n",
        "        request.form.data = \"\"\n",
        "        return html_style + posted(summarized_text) + bottom\n",
        "    return html_style + not_posted + bottom"
      ],
      "execution_count": 0,
      "outputs": []
    },
    {
      "cell_type": "markdown",
      "metadata": {
        "id": "pbNijH0GVj6V",
        "colab_type": "text"
      },
      "source": [
        "## Running the application\n",
        "\n",
        "Finally, once our app is ready and all the routes have been created, we can now run our application by calling the `run()` method on the app variable and we are ready to use this application..\n",
        "\n",
        "\n",
        "** *NOTE: Once we run the application, because we have used app with flask-ngrok, it is going to point us at two links. One which will always be http://localhost:5000/ and another which will be always different but will include the name ngrok in the URL so that you can get to know that this is a ngrok URL. With this URL, your application will be temporarily hosted on a ngrok platform and you can access it from there. This is useful when your are not running this notebook on your local system, otherwise, localhost URL will work just fine.* **"
      ]
    },
    {
      "cell_type": "code",
      "metadata": {
        "id": "qWLYGl0IVmEw",
        "colab_type": "code",
        "outputId": "43fdc677-d9ef-409a-8e34-cb26a9074322",
        "colab": {
          "base_uri": "https://localhost:8080/",
          "height": 151
        }
      },
      "source": [
        "if __name__ == \"__main__\":\n",
        "    app.run()"
      ],
      "execution_count": 16,
      "outputs": [
        {
          "output_type": "stream",
          "text": [
            " * Serving Flask app \"__main__\" (lazy loading)\n",
            " * Environment: production\n",
            "\u001b[31m   WARNING: This is a development server. Do not use it in a production deployment.\u001b[0m\n",
            "\u001b[2m   Use a production WSGI server instead.\u001b[0m\n",
            " * Debug mode: off\n"
          ],
          "name": "stdout"
        },
        {
          "output_type": "stream",
          "text": [
            " * Running on http://127.0.0.1:5000/ (Press CTRL+C to quit)\n"
          ],
          "name": "stderr"
        },
        {
          "output_type": "stream",
          "text": [
            " * Running on http://3a0fae4a.ngrok.io\n",
            " * Traffic stats available on http://127.0.0.1:4040\n"
          ],
          "name": "stdout"
        }
      ]
    },
    {
      "cell_type": "code",
      "metadata": {
        "id": "dYEuvnF6dIPx",
        "colab_type": "code",
        "colab": {}
      },
      "source": [
        ""
      ],
      "execution_count": 0,
      "outputs": []
    }
  ]
}